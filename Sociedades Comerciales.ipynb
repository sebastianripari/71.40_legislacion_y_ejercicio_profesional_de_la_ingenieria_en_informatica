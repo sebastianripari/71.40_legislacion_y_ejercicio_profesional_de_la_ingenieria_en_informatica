{
 "cells": [
  {
   "cell_type": "markdown",
   "id": "dc70e44c-1c06-43cf-99d7-19f0ac2191ca",
   "metadata": {
    "tags": []
   },
   "source": [
    "# Sociedades Comerciales"
   ]
  },
  {
   "cell_type": "markdown",
   "id": "60ed572f-89e1-4ac9-87d4-8b7e83f0a73f",
   "metadata": {
    "jp-MarkdownHeadingCollapsed": true,
    "tags": []
   },
   "source": [
    "## Clasificacion"
   ]
  },
  {
   "cell_type": "markdown",
   "id": "13673cbf-17cd-41e8-8fd2-78ab77b4195f",
   "metadata": {},
   "source": [
    "### Mancomunada"
   ]
  },
  {
   "cell_type": "markdown",
   "id": "61002a52-d6e0-4f9f-a7bc-32d0998ce20c",
   "metadata": {},
   "source": [
    "Es cuando la responsabilidad esta limitada por el aporte que ellos hicieron al armar la sociedad."
   ]
  },
  {
   "cell_type": "markdown",
   "id": "5424f04e-ffde-4f1a-b211-2a0b5c04c033",
   "metadata": {},
   "source": [
    "### Solidaria"
   ]
  },
  {
   "cell_type": "markdown",
   "id": "c25032ed-a292-4d70-88e3-ed0cc4e3ab25",
   "metadata": {},
   "source": [
    "Es cuando la responsabilidad no esta limitada al aporte que ellos hicieron, los acreedores pueden exigir el cumplimiento de la totalidad de la deuda a cada unos de los socios."
   ]
  },
  {
   "cell_type": "markdown",
   "id": "252a7de1-f614-416b-97ee-d91695d14bb8",
   "metadata": {
    "jp-MarkdownHeadingCollapsed": true,
    "tags": []
   },
   "source": [
    "## Tipos"
   ]
  },
  {
   "cell_type": "markdown",
   "id": "93a41fbd-9b72-4f89-b637-8a1ea6f630e8",
   "metadata": {
    "jp-MarkdownHeadingCollapsed": true,
    "tags": []
   },
   "source": [
    "### Sociedad Anonima (SA)"
   ]
  },
  {
   "cell_type": "markdown",
   "id": "6992c7ed-4ae6-43ef-8903-56298a3ef7e3",
   "metadata": {},
   "source": [
    "- No limite a la cantidad de socios\n",
    "- Mancomunada"
   ]
  },
  {
   "cell_type": "markdown",
   "id": "e90c3f10-6f5e-4142-8d2a-8207782ec336",
   "metadata": {
    "jp-MarkdownHeadingCollapsed": true,
    "tags": []
   },
   "source": [
    "### Sociedad de Responsabilidad Limitada (SRL)"
   ]
  },
  {
   "cell_type": "markdown",
   "id": "30a116b5-c137-4baf-ad3e-c4e0e42c29d4",
   "metadata": {},
   "source": [
    "- Maxima cantidad de socios 50.\n",
    "- Mancomunada."
   ]
  },
  {
   "cell_type": "markdown",
   "id": "aa2905da-3cb8-4963-9b99-666652ae741f",
   "metadata": {
    "jp-MarkdownHeadingCollapsed": true,
    "tags": []
   },
   "source": [
    "### Sociedad por Acciones Simplificada (SAS)"
   ]
  },
  {
   "cell_type": "markdown",
   "id": "e86df65f-9e6c-4e7f-bfb2-d3c1f0f85d38",
   "metadata": {},
   "source": [
    "- Tiene la ventaja de que para iniciarla, conlleva menos tiempo, menos tramites, pensada para emprendedores.\n",
    "- Tiene la particularidad de que puede estar integrada por una unica persona.\n",
    "- Mancomunada."
   ]
  },
  {
   "cell_type": "markdown",
   "id": "260668ad-163b-4f98-8fa4-74da9f254f9e",
   "metadata": {
    "jp-MarkdownHeadingCollapsed": true,
    "tags": []
   },
   "source": [
    "### Sociedades Comandita Simple"
   ]
  },
  {
   "cell_type": "markdown",
   "id": "45de8635-ec99-4e2b-996c-48f1e41cef77",
   "metadata": {},
   "source": [
    "- Es en la unica sociedad que existen dos tipos de socios, los <b>Comanditados</b> y los <b>Comanditarios</b>.\n",
    "- Los socios <b>Comanditados</b> tienen responsabilidad ilimitada.\n",
    "- Los socios <b>Comanditarios</b> tienen responsabilidad limitada."
   ]
  },
  {
   "cell_type": "markdown",
   "id": "e79d055b-d276-4a29-9d5d-9246c2f91e90",
   "metadata": {},
   "source": []
  },
  {
   "cell_type": "code",
   "execution_count": null,
   "id": "b488aed5-d6e1-4773-8cab-c237eca3b42e",
   "metadata": {},
   "outputs": [],
   "source": []
  }
 ],
 "metadata": {
  "kernelspec": {
   "display_name": "Python 3 (ipykernel)",
   "language": "python",
   "name": "python3"
  },
  "language_info": {
   "codemirror_mode": {
    "name": "ipython",
    "version": 3
   },
   "file_extension": ".py",
   "mimetype": "text/x-python",
   "name": "python",
   "nbconvert_exporter": "python",
   "pygments_lexer": "ipython3",
   "version": "3.11.1"
  }
 },
 "nbformat": 4,
 "nbformat_minor": 5
}
