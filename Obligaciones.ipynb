{
 "cells": [
  {
   "cell_type": "markdown",
   "id": "a2890e9e-5a31-4a5a-b19e-c7a516f4e351",
   "metadata": {},
   "source": [
    "# Obligaciones"
   ]
  },
  {
   "cell_type": "markdown",
   "id": "bcf50fa3-3d80-444f-a7dd-06de8226a142",
   "metadata": {},
   "source": [
    "Es una <b>relacion</b> entre dos personas, donde existe:\n",
    "- <b>Deudor</b> (Sujeto Pasivo): sujeto obligado a satisfacer una prestacion.\n",
    "- <b>Acredor</b> (Sujeto Activo): tiene derecho a exigir el cumplimiento de una prestacion. "
   ]
  },
  {
   "cell_type": "code",
   "execution_count": null,
   "id": "b6419bbf-935e-4ee5-a0eb-d5feae6d20d5",
   "metadata": {},
   "outputs": [],
   "source": []
  }
 ],
 "metadata": {
  "kernelspec": {
   "display_name": "Python 3 (ipykernel)",
   "language": "python",
   "name": "python3"
  },
  "language_info": {
   "codemirror_mode": {
    "name": "ipython",
    "version": 3
   },
   "file_extension": ".py",
   "mimetype": "text/x-python",
   "name": "python",
   "nbconvert_exporter": "python",
   "pygments_lexer": "ipython3",
   "version": "3.11.1"
  }
 },
 "nbformat": 4,
 "nbformat_minor": 5
}
