{
 "cells": [
  {
   "cell_type": "markdown",
   "id": "625f9253",
   "metadata": {},
   "source": [
    "## Normas Informaticas"
   ]
  },
  {
   "cell_type": "markdown",
   "id": "6acb9134",
   "metadata": {},
   "source": [
    "Esta regida por la ley 26388."
   ]
  },
  {
   "cell_type": "markdown",
   "id": "56ac0e49",
   "metadata": {},
   "source": [
    "Sancionada: Junio 4 de 2008"
   ]
  },
  {
   "cell_type": "markdown",
   "id": "dd0fa4a5",
   "metadata": {},
   "source": [
    "Promulgada: Junio 24 de 2008"
   ]
  },
  {
   "cell_type": "markdown",
   "id": "c772f3c9",
   "metadata": {},
   "source": [
    "#### Articulo 2"
   ]
  },
  {
   "cell_type": "markdown",
   "id": "d5edaeee",
   "metadata": {},
   "source": [
    "Todo aquel que produjere, financiare, ofreciere, comerciare, publicare, facilitare, divulgare o distribuyere contenido de un menor de 18 años sera penado 6 meses a 4 años. Y para los que tengan el contenido, con dichos fines de distribucion tendran una pena prision de 4 meses a 2 años."
   ]
  },
  {
   "cell_type": "markdown",
   "id": "ad4d13e4",
   "metadata": {},
   "source": [
    "#### Articulo 4"
   ]
  },
  {
   "cell_type": "markdown",
   "id": "8730f58a",
   "metadata": {},
   "source": [
    "Todo aquel que intercepte o acceda a una comunicacion privada electronica a la cual no es el receptor, tendra una pena de prision de 15 dias a 6 meses. Pero si ademas comparte o comunica informacion de la comunicacion la pena es de 1 mes a 1 año."
   ]
  },
  {
   "cell_type": "markdown",
   "id": "fc190734",
   "metadata": {},
   "source": [
    "#### Articulo 5"
   ]
  },
  {
   "cell_type": "markdown",
   "id": "80dbae0c",
   "metadata": {},
   "source": [
    "Todo aquel que accede a un sistema informatico de acceso restringido tendra una pena de prision de 15 dias a 6 meses. Y tiene el agravante de si es el sistema de un organismo publico, entonces de 1 mes a 1 año."
   ]
  },
  {
   "cell_type": "markdown",
   "id": "58fe114c",
   "metadata": {},
   "source": [
    "#### Articulo 6"
   ]
  },
  {
   "cell_type": "markdown",
   "id": "0b18e267",
   "metadata": {},
   "source": [
    "Todo aquel que haga publico un documento que es privado debera pagar una multa de 1500 a 100000 pesos."
   ]
  },
  {
   "cell_type": "markdown",
   "id": "13c20456",
   "metadata": {},
   "source": [
    "#### Articulo 7"
   ]
  },
  {
   "cell_type": "markdown",
   "id": "9eb25d8e",
   "metadata": {},
   "source": [
    "Todo aquel funcionario publico que revele datos que por ley deben ser secretos sera penado con prision de 1 mes a 2 años e inhabilitacion de 1 a 4 años."
   ]
  },
  {
   "cell_type": "markdown",
   "id": "8ad7a979",
   "metadata": {},
   "source": [
    "#### Articulo 8"
   ]
  },
  {
   "cell_type": "markdown",
   "id": "f7a55ffa",
   "metadata": {},
   "source": []
  }
 ],
 "metadata": {
  "kernelspec": {
   "display_name": "Python 3 (ipykernel)",
   "language": "python",
   "name": "python3"
  },
  "language_info": {
   "codemirror_mode": {
    "name": "ipython",
    "version": 3
   },
   "file_extension": ".py",
   "mimetype": "text/x-python",
   "name": "python",
   "nbconvert_exporter": "python",
   "pygments_lexer": "ipython3",
   "version": "3.11.1"
  }
 },
 "nbformat": 4,
 "nbformat_minor": 5
}
