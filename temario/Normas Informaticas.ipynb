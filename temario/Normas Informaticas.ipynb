{
 "cells": [
  {
   "cell_type": "markdown",
   "id": "d2bb84bf",
   "metadata": {},
   "source": [
    "## Normas Informaticas"
   ]
  },
  {
   "cell_type": "markdown",
   "id": "e36dec47",
   "metadata": {},
   "source": [
    "Esta regida por la ley 26388."
   ]
  },
  {
   "cell_type": "markdown",
   "id": "52ac48b3",
   "metadata": {},
   "source": [
    "#### Articulo 2"
   ]
  },
  {
   "cell_type": "markdown",
   "id": "516f7806",
   "metadata": {},
   "source": [
    "Todo aquel que produjere, financiare, ofreciere, comerciare, publicare, facilitare, divulgare o distribuyere contenido de un menor de 18 años sera penado 6 meses a 4 años. Y para los que tengan el contenido, con dichos fines de distribucion tendran una pena de 4 meses a 2 años."
   ]
  },
  {
   "cell_type": "markdown",
   "id": "637de6bb",
   "metadata": {},
   "source": [
    "#### Articulo 4"
   ]
  },
  {
   "cell_type": "markdown",
   "id": "f734bf58",
   "metadata": {},
   "source": [
    "Todo aquel que intercepte o acceda a una comunicacion privada electronica a la cual no es el receptor, tendra una pena de 15 dias a 6 meses. Pero si ademas comparte o comunica informacion de la comunicacion la pena es de 1 mes a 1 año."
   ]
  },
  {
   "cell_type": "markdown",
   "id": "d12929b7",
   "metadata": {},
   "source": [
    "#### Articulo 5"
   ]
  },
  {
   "cell_type": "markdown",
   "id": "f0b324cb",
   "metadata": {},
   "source": [
    "Todo aquel que accede a un sistema informatico de acceso restringido sera penado de 15 dias a 6 meses. Y tiene el agravante de si es el sistema de un organismo publico, entonces la pena es de 1 mes a 1 año."
   ]
  },
  {
   "cell_type": "markdown",
   "id": "ecc2b081",
   "metadata": {},
   "source": [
    "#### Articulo 6"
   ]
  },
  {
   "cell_type": "markdown",
   "id": "22dceab8",
   "metadata": {},
   "source": [
    "Todo aquel que haga publico un documento que es privado debera pagar una multa de 1500 a 100000 pesos."
   ]
  },
  {
   "cell_type": "code",
   "execution_count": null,
   "id": "00a06eef",
   "metadata": {},
   "outputs": [],
   "source": []
  }
 ],
 "metadata": {
  "kernelspec": {
   "display_name": "Python 3 (ipykernel)",
   "language": "python",
   "name": "python3"
  },
  "language_info": {
   "codemirror_mode": {
    "name": "ipython",
    "version": 3
   },
   "file_extension": ".py",
   "mimetype": "text/x-python",
   "name": "python",
   "nbconvert_exporter": "python",
   "pygments_lexer": "ipython3",
   "version": "3.11.1"
  }
 },
 "nbformat": 4,
 "nbformat_minor": 5
}
