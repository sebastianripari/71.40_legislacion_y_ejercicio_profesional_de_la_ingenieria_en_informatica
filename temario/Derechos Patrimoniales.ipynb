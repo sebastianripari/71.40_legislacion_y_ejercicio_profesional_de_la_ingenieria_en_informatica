{
 "cells": [
  {
   "cell_type": "markdown",
   "id": "29958851-c410-4377-bdf1-b8089947d94b",
   "metadata": {},
   "source": [
    "# Derechos Patrimoniales"
   ]
  },
  {
   "cell_type": "markdown",
   "id": "926d6e17-0dfc-46aa-858f-b932fc51047f",
   "metadata": {},
   "source": [
    "Sirven para satisfaccion de las necesidades economicas del titular, son apreciables pecuniariamente (dinero)"
   ]
  },
  {
   "cell_type": "markdown",
   "id": "a89b6282-d0da-4fab-8e18-f78e992243d1",
   "metadata": {},
   "source": [
    "## Tipos"
   ]
  },
  {
   "cell_type": "markdown",
   "id": "fe98c56f-1088-4285-baa8-1cbb5d71e48c",
   "metadata": {
    "tags": []
   },
   "source": [
    "### Derechos Personales o Creditorios"
   ]
  },
  {
   "cell_type": "markdown",
   "id": "0ebb754b-69cf-4dbc-bf4a-7286cd77e55f",
   "metadata": {},
   "source": [
    "Facultan al titular del derecho a exigir que una persona determinada cumpla con una obligacion (dar, hacer no hacer)"
   ]
  },
  {
   "cell_type": "markdown",
   "id": "1a3345f4-e963-4b6c-b03e-200c76616709",
   "metadata": {
    "tags": []
   },
   "source": [
    "### Derechos Reales"
   ]
  },
  {
   "cell_type": "markdown",
   "id": "a5dcfa6e-f6b2-41ea-9256-b8101ff7d663",
   "metadata": {},
   "source": [
    "Es aquel por el cual se establece una relacion directa entre una persona y una cosa."
   ]
  },
  {
   "cell_type": "markdown",
   "id": "f302a758-8503-4dc9-8aa8-09578358c50c",
   "metadata": {},
   "source": [
    "<b>Ejemplo</b>: si yo soy dueño de un departamento, lo estoy alquilando, y mi inquilino no paga el alquiler, entonces tengo el derecho subjetivo de hacer el reclamo. Esto fue gracias al derecho real que tiene el propietario sobre la cosa, que en este caso es el departamento."
   ]
  },
  {
   "cell_type": "markdown",
   "id": "a6149119-2ad2-4fc2-bb4c-fdff2bbcff99",
   "metadata": {},
   "source": [
    "Elementos:\n",
    "- Titular del derecho o sujeto.\n",
    "- Objeto del derecho o cosa."
   ]
  },
  {
   "cell_type": "markdown",
   "id": "d5f5708b-732e-4c75-abb6-b8a8ac2e212b",
   "metadata": {},
   "source": [
    "<b>Nota</b>: la comunidad esta obligada a respetar esa facultad de ejercer sus derechos en relacion al objeto."
   ]
  },
  {
   "cell_type": "markdown",
   "id": "6d8fe7da-044a-4e25-a1cc-2737beb63094",
   "metadata": {
    "tags": []
   },
   "source": [
    "### Derechos Intelectuales"
   ]
  },
  {
   "cell_type": "code",
   "execution_count": null,
   "id": "b15f141c-3104-4f80-ae1a-c93b384a5032",
   "metadata": {},
   "outputs": [],
   "source": []
  }
 ],
 "metadata": {
  "kernelspec": {
   "display_name": "Python 3 (ipykernel)",
   "language": "python",
   "name": "python3"
  },
  "language_info": {
   "codemirror_mode": {
    "name": "ipython",
    "version": 3
   },
   "file_extension": ".py",
   "mimetype": "text/x-python",
   "name": "python",
   "nbconvert_exporter": "python",
   "pygments_lexer": "ipython3",
   "version": "3.11.1"
  }
 },
 "nbformat": 4,
 "nbformat_minor": 5
}
