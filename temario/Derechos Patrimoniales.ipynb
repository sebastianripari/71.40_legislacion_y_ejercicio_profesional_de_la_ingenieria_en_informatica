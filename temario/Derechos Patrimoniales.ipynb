{
 "cells": [
  {
   "cell_type": "markdown",
   "id": "29958851-c410-4377-bdf1-b8089947d94b",
   "metadata": {},
   "source": [
    "# Derechos Patrimoniales"
   ]
  },
  {
   "cell_type": "markdown",
   "id": "926d6e17-0dfc-46aa-858f-b932fc51047f",
   "metadata": {},
   "source": [
    "Sirven para satisfaccion de las necesidades economicas del titular, son apreciables pecuniariamente (dinero)"
   ]
  },
  {
   "cell_type": "markdown",
   "id": "a89b6282-d0da-4fab-8e18-f78e992243d1",
   "metadata": {
    "tags": []
   },
   "source": [
    "## Tipos"
   ]
  },
  {
   "cell_type": "markdown",
   "id": "fe98c56f-1088-4285-baa8-1cbb5d71e48c",
   "metadata": {
    "tags": []
   },
   "source": [
    "### Derechos Personales o Creditorios"
   ]
  },
  {
   "cell_type": "markdown",
   "id": "0ebb754b-69cf-4dbc-bf4a-7286cd77e55f",
   "metadata": {},
   "source": [
    "Facultan al titular del derecho a exigir que una persona determinada cumpla con una obligacion (dar, hacer no hacer)"
   ]
  },
  {
   "cell_type": "markdown",
   "id": "1a3345f4-e963-4b6c-b03e-200c76616709",
   "metadata": {
    "tags": []
   },
   "source": [
    "### Derechos Reales"
   ]
  },
  {
   "cell_type": "markdown",
   "id": "a5dcfa6e-f6b2-41ea-9256-b8101ff7d663",
   "metadata": {},
   "source": [
    "Es aquel por el cual se establece una relacion directa entre una persona y una cosa."
   ]
  },
  {
   "cell_type": "markdown",
   "id": "f302a758-8503-4dc9-8aa8-09578358c50c",
   "metadata": {},
   "source": [
    "<b>Ejemplo</b>: si yo soy dueño de un departamento, lo estoy alquilando, y mi inquilino no paga el alquiler, entonces tengo el derecho subjetivo de hacer el reclamo. Esto fue gracias al derecho real que tiene el propietario sobre la cosa, que en este caso es el departamento."
   ]
  },
  {
   "cell_type": "markdown",
   "id": "e286ed51-9a33-44a0-a6a3-e25fad6af810",
   "metadata": {},
   "source": [
    "<b>Otros Ejemplos</b>:\n",
    "- la servidumbre"
   ]
  },
  {
   "cell_type": "markdown",
   "id": "f5f31f57-c1c0-4932-9f2c-ff2c40df0d2e",
   "metadata": {},
   "source": [
    "#### Anticresis"
   ]
  },
  {
   "cell_type": "markdown",
   "id": "a4866bcb-0889-4ee4-bb89-cb723fb5eeca",
   "metadata": {},
   "source": [
    "<b>Definicion</b>: La anticresis es el contrato por el cual se entrega un bien inmueble como garantía de un pago futuro. Así, la propiedad pasa a manos del acreedor, permitiendo que este perciba las rentas provenientes del uso y explotación del activo."
   ]
  },
  {
   "cell_type": "markdown",
   "id": "cf1b744f-c0b8-4973-b226-30e71831bfd7",
   "metadata": {},
   "source": [
    "<b>Explicacion Simple</b>: A le debe plata a B, entonces A le da a B in inmueble para que con sus frutos pueda pagar la deuda, luego le debera devolver el inmueble a A."
   ]
  },
  {
   "cell_type": "markdown",
   "id": "2e3eb44a-7db5-426b-af8b-3ff4332eba46",
   "metadata": {},
   "source": [
    "Por lo tanto B tiene un <b>derecho real</b> sobre el inmueble."
   ]
  },
  {
   "cell_type": "markdown",
   "id": "b9c43b5c-1598-4aa5-a938-2a561c6c7792",
   "metadata": {},
   "source": [
    "#### Prenda"
   ]
  },
  {
   "cell_type": "markdown",
   "id": "3704b473-e882-4074-a22e-480340552b19",
   "metadata": {},
   "source": [
    "<b>Definicion</b>: La prenda es un contrato de garantía real para asegurar que se cumpla una obligación y grava bienes muebles. La persona acreedora retendrá el bien mueble hasta que se pague la obligación que ha contraído el prestatario."
   ]
  },
  {
   "cell_type": "markdown",
   "id": "007a2a55-bcb5-4fd2-b050-794df7fbd9dc",
   "metadata": {},
   "source": [
    "<b>Explicacion Simple</b>: A contrae una obligacion con B. Por ejemplo A pide un prestamo a B, entonces B le pide un bien mueble a A como garantia de que A cumpla la obligacion "
   ]
  },
  {
   "cell_type": "markdown",
   "id": "f09d0bc0-6ab9-4bd4-a761-37587a590edf",
   "metadata": {},
   "source": [
    "El <b>derecho real</b> de B es sobre el mueble."
   ]
  },
  {
   "cell_type": "markdown",
   "id": "fa7e387f-a79a-41f5-a1cd-ef979a832ab2",
   "metadata": {},
   "source": [
    "#### Hipoteca"
   ]
  },
  {
   "cell_type": "markdown",
   "id": "8ec75df2-67c0-4939-98e3-3aff3a3de4c8",
   "metadata": {},
   "source": [
    "<b>Definicion</b>: Una hipoteca es un contrato mediante el cual un deudor deja como garantía un bien (generalmente un inmueble) a quien le hace un préstamo (acreedor)."
   ]
  },
  {
   "cell_type": "markdown",
   "id": "a83782ca-550b-4db1-9293-35099211538f",
   "metadata": {},
   "source": [
    "<b>Explicacion Simple</b>: A pide un prestamo a B, y A como garantia le deja un inmueble a B."
   ]
  },
  {
   "cell_type": "markdown",
   "id": "9498c1e9-2389-4899-a053-1bfd3f0e2f29",
   "metadata": {},
   "source": [
    "El <b>derecho real</b> lo tiene B sobre el inmueble, tiene derecho a venderlo para recuperar el prestamo."
   ]
  },
  {
   "cell_type": "markdown",
   "id": "a6149119-2ad2-4fc2-bb4c-fdff2bbcff99",
   "metadata": {},
   "source": [
    "Elementos:\n",
    "- Titular del derecho o sujeto.\n",
    "- Objeto del derecho o cosa."
   ]
  },
  {
   "cell_type": "markdown",
   "id": "d5f5708b-732e-4c75-abb6-b8a8ac2e212b",
   "metadata": {},
   "source": [
    "<b>Nota</b>: la comunidad esta obligada a respetar esa facultad de ejercer sus derechos en relacion al objeto."
   ]
  },
  {
   "cell_type": "markdown",
   "id": "8f5c8296-e50c-4f6b-8379-d611ca9edb0c",
   "metadata": {},
   "source": [
    "<img src=\"../imagenes/derechos_reales.png\" />"
   ]
  },
  {
   "cell_type": "markdown",
   "id": "6d8fe7da-044a-4e25-a1cc-2737beb63094",
   "metadata": {
    "tags": []
   },
   "source": [
    "### Derechos Intelectuales"
   ]
  },
  {
   "cell_type": "code",
   "execution_count": null,
   "id": "b15f141c-3104-4f80-ae1a-c93b384a5032",
   "metadata": {},
   "outputs": [],
   "source": []
  }
 ],
 "metadata": {
  "kernelspec": {
   "display_name": "Python 3 (ipykernel)",
   "language": "python",
   "name": "python3"
  },
  "language_info": {
   "codemirror_mode": {
    "name": "ipython",
    "version": 3
   },
   "file_extension": ".py",
   "mimetype": "text/x-python",
   "name": "python",
   "nbconvert_exporter": "python",
   "pygments_lexer": "ipython3",
   "version": "3.11.1"
  }
 },
 "nbformat": 4,
 "nbformat_minor": 5
}
