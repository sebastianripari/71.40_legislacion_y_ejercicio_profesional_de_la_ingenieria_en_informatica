{
 "cells": [
  {
   "cell_type": "markdown",
   "id": "29958851-c410-4377-bdf1-b8089947d94b",
   "metadata": {},
   "source": [
    "# Derechos Patrimoniales"
   ]
  },
  {
   "cell_type": "markdown",
   "id": "926d6e17-0dfc-46aa-858f-b932fc51047f",
   "metadata": {},
   "source": [
    "Sirven para satisfaccion de las necesidades economicas del titular, son apreciables pecuniariamente (dinero)"
   ]
  },
  {
   "cell_type": "markdown",
   "id": "6c7abc2c-bd00-47ac-838c-c8628e22848d",
   "metadata": {},
   "source": []
  }
 ],
 "metadata": {
  "kernelspec": {
   "display_name": "Python 3 (ipykernel)",
   "language": "python",
   "name": "python3"
  },
  "language_info": {
   "codemirror_mode": {
    "name": "ipython",
    "version": 3
   },
   "file_extension": ".py",
   "mimetype": "text/x-python",
   "name": "python",
   "nbconvert_exporter": "python",
   "pygments_lexer": "ipython3",
   "version": "3.11.1"
  }
 },
 "nbformat": 4,
 "nbformat_minor": 5
}
