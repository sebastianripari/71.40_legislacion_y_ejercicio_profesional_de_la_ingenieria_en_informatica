{
 "cells": [
  {
   "cell_type": "markdown",
   "id": "b0ee21f1-6457-4bfe-b113-a409ca13d457",
   "metadata": {},
   "source": [
    "# Derechos Reales"
   ]
  },
  {
   "cell_type": "markdown",
   "id": "4a9a4e2e-3db7-42ad-8bff-1fc99126275c",
   "metadata": {},
   "source": [
    "Es aquel por el cual se establece una relacion directa entre una persona y una cosa."
   ]
  },
  {
   "cell_type": "markdown",
   "id": "6a4cb3d9-bdb6-4dcb-88fd-277f2ef8bbf6",
   "metadata": {},
   "source": [
    "<b>Ejemplo</b>: si yo soy dueño de un departamento, lo estoy alquilando, y mi inquilino no paga el alquiler, entonces tengo el derecho subjetivo de hacer el reclamo. Esto fue gracias al derecho real que tiene el propietario sobre la cosa, que en este caso es el departamento."
   ]
  },
  {
   "cell_type": "markdown",
   "id": "b98d0e04-2a22-48f0-8ed9-3575a549d7bf",
   "metadata": {},
   "source": [
    "<img src=\"../../imagenes/derechos_reales.png\" />"
   ]
  },
  {
   "cell_type": "markdown",
   "id": "0d878d8a-e4ad-444e-bedd-21edcb69f8dc",
   "metadata": {
    "jp-MarkdownHeadingCollapsed": true,
    "tags": []
   },
   "source": [
    "### Anticresis"
   ]
  },
  {
   "cell_type": "markdown",
   "id": "6e57f844-8696-4221-bcd6-a0990617eceb",
   "metadata": {},
   "source": [
    "<b>Definicion</b>: La anticresis es el contrato por el cual se entrega un bien inmueble como garantía de un pago futuro. Así, la propiedad pasa a manos del acreedor, permitiendo que este perciba las rentas provenientes del uso y explotación del activo."
   ]
  },
  {
   "cell_type": "markdown",
   "id": "57cb9d2d-c1e7-449d-9690-872e9f535719",
   "metadata": {},
   "source": [
    "<b>Explicacion Simple</b>: A le debe plata a B, entonces A le da a B in inmueble para que con sus frutos pueda pagar la deuda, luego le debera devolver el inmueble a A."
   ]
  },
  {
   "cell_type": "markdown",
   "id": "952f18a5-c382-4864-bf77-2363abb9aac8",
   "metadata": {},
   "source": [
    "Por lo tanto B tiene un <b>derecho real</b> sobre el inmueble."
   ]
  },
  {
   "cell_type": "markdown",
   "id": "082093a4-d5de-4bf0-8461-a52e23455ee5",
   "metadata": {
    "jp-MarkdownHeadingCollapsed": true,
    "tags": []
   },
   "source": [
    "### Prenda"
   ]
  },
  {
   "cell_type": "markdown",
   "id": "10c608c2-fb20-48c6-9738-1ef98a253761",
   "metadata": {},
   "source": [
    "<b>Definicion</b>: La prenda es un contrato de garantía real para asegurar que se cumpla una obligación y grava bienes muebles. La persona acreedora retendrá el bien mueble hasta que se pague la obligación que ha contraído el prestatario."
   ]
  },
  {
   "cell_type": "markdown",
   "id": "1fa43a45-dd58-4277-aee7-f04b83fdb21e",
   "metadata": {},
   "source": [
    "<b>Explicacion Simple</b>: A contrae una obligacion con B. Por ejemplo A pide un prestamo a B, entonces B le pide un bien mueble a A como garantia de que A cumpla la obligacion"
   ]
  },
  {
   "cell_type": "markdown",
   "id": "44cd1e90-5ac9-4212-be9c-cbe90590f805",
   "metadata": {},
   "source": [
    "El <b>derecho real</b> de B es sobre el mueble."
   ]
  },
  {
   "cell_type": "markdown",
   "id": "a9dbca03-5705-41c5-9a7d-50f0a179a3f1",
   "metadata": {
    "tags": []
   },
   "source": [
    "### Hipoteca"
   ]
  },
  {
   "cell_type": "markdown",
   "id": "9e53c672-4e51-45d2-9d97-da8a2562d9d3",
   "metadata": {},
   "source": [
    "<b>Definicion</b>: Una hipoteca es un contrato mediante el cual un deudor deja como garantía un bien (generalmente un inmueble) a quien le hace un préstamo (acreedor)."
   ]
  },
  {
   "cell_type": "markdown",
   "id": "75294c5c-23f0-47a7-8bff-1a8385d824f3",
   "metadata": {},
   "source": [
    "<b>Explicacion Simple</b>: A pide un prestamo a B, y A como garantia le deja un inmueble a B."
   ]
  },
  {
   "cell_type": "markdown",
   "id": "644c9a3a-88d1-4f10-a6b1-a88f63bd3312",
   "metadata": {},
   "source": [
    "El <b>derecho real</b> lo tiene B sobre el inmueble, tiene derecho a venderlo para recuperar el prestamo."
   ]
  },
  {
   "cell_type": "markdown",
   "id": "b229cd0a-dca4-4341-9ac5-352f8c6c099e",
   "metadata": {},
   "source": [
    "### Dominio"
   ]
  },
  {
   "cell_type": "markdown",
   "id": "40e491cf-4653-4404-a9b7-348df67207f5",
   "metadata": {},
   "source": [
    "- <b>Perpetuidad</b>: El dominio es perpetuo. No tiene límite en el tiempo y subsiste con independencia de su ejercicio. No se extingue aunque el dueño no ejerza sus facultades, o las ejerza otro, excepto que éste adquiera el dominio por prescripción adquisitiva.\n",
    "- <b>Exclusividad</b>: El dominio es exclusivo y no puede tener más de un titular. Quien adquiere la cosa por un título, no puede en adelante adquirirla por otro, si no es por lo que falta al título.\n",
    "- <b>Facultad de exclusion</b>: El dominio es excluyente. El dueño puede excluir a extraños del uso, goce o disposición de la cosa, remover por propia autoridad los objetos puestos en ella, y encerrar sus inmuebles con muros, cercos o fosos, sujetándose a las normas locales.\n",
    "- <b>Extension</b>: El dominio de una cosa comprende los objetos que forman un todo con ella o son sus accesorios."
   ]
  },
  {
   "cell_type": "markdown",
   "id": "f2b2a741-407c-4494-ba39-46bdb28fdd27",
   "metadata": {
    "jp-MarkdownHeadingCollapsed": true,
    "tags": []
   },
   "source": [
    "#### Caracteres del Dominio"
   ]
  },
  {
   "cell_type": "code",
   "execution_count": null,
   "id": "bbb703e6-da52-4487-bc73-4fa0c9c8beec",
   "metadata": {},
   "outputs": [],
   "source": []
  },
  {
   "cell_type": "markdown",
   "id": "aea5e75c-7799-4df9-b66d-f433ac45f278",
   "metadata": {},
   "source": [
    "## Links de referencia"
   ]
  },
  {
   "cell_type": "markdown",
   "id": "8933276c-c1a7-4140-8190-047bb7ea38c7",
   "metadata": {},
   "source": [
    "https://economipedia.com/definiciones/anticresis.html"
   ]
  },
  {
   "cell_type": "markdown",
   "id": "40a74613-1086-41ff-9011-b77b2083f693",
   "metadata": {},
   "source": [
    "https://economipedia.com/definiciones/prenda.html"
   ]
  },
  {
   "cell_type": "markdown",
   "id": "90e9d542-83c2-44ce-ae1a-0e4a15990893",
   "metadata": {},
   "source": [
    "https://economipedia.com/definiciones/hipoteca.html"
   ]
  }
 ],
 "metadata": {
  "kernelspec": {
   "display_name": "Python 3 (ipykernel)",
   "language": "python",
   "name": "python3"
  },
  "language_info": {
   "codemirror_mode": {
    "name": "ipython",
    "version": 3
   },
   "file_extension": ".py",
   "mimetype": "text/x-python",
   "name": "python",
   "nbconvert_exporter": "python",
   "pygments_lexer": "ipython3",
   "version": "3.11.1"
  }
 },
 "nbformat": 4,
 "nbformat_minor": 5
}
