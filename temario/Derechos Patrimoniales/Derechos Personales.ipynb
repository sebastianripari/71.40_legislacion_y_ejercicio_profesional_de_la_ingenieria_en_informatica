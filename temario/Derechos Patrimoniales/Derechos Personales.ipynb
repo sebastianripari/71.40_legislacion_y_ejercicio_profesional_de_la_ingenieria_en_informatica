{
 "cells": [
  {
   "cell_type": "markdown",
   "id": "589be1c0-857e-4b88-b457-226316c30fa5",
   "metadata": {},
   "source": [
    "Facultan al titular del derecho a exigir que una persona determinada cumpla con una obligacion (dar, hacer no hacer)"
   ]
  },
  {
   "cell_type": "code",
   "execution_count": null,
   "id": "081c756f-45e0-4bab-a04e-1ee016035fb2",
   "metadata": {},
   "outputs": [],
   "source": []
  }
 ],
 "metadata": {
  "kernelspec": {
   "display_name": "Python 3 (ipykernel)",
   "language": "python",
   "name": "python3"
  },
  "language_info": {
   "codemirror_mode": {
    "name": "ipython",
    "version": 3
   },
   "file_extension": ".py",
   "mimetype": "text/x-python",
   "name": "python",
   "nbconvert_exporter": "python",
   "pygments_lexer": "ipython3",
   "version": "3.11.1"
  }
 },
 "nbformat": 4,
 "nbformat_minor": 5
}
