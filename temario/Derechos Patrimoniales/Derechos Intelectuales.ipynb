{
 "cells": [
  {
   "cell_type": "markdown",
   "id": "003757e9-f2af-4d1b-a339-0583465b62ae",
   "metadata": {},
   "source": [
    "### Propiedad Intelectual (PI)"
   ]
  },
  {
   "cell_type": "markdown",
   "id": "869af9ba-1a37-4795-9e81-802731a27834",
   "metadata": {},
   "source": [
    "Se relaciona con las creaciones de la mente: invenciones, obras literarias y artisticas, asi como simbolos, nombres e imagenes utilizados en el comercio."
   ]
  },
  {
   "cell_type": "markdown",
   "id": "c566aa91-dce7-4548-ba3f-7b8160c79549",
   "metadata": {},
   "source": [
    "La legislacion protege las P.I por ejemplo mediante patentes, el derecho de autor y las marcas."
   ]
  },
  {
   "cell_type": "markdown",
   "id": "044b8c59-09f5-4f8a-baa4-9033ea284772",
   "metadata": {},
   "source": [
    "Propiedad Itelectual, se bifurca en dos tipos:\n",
    "- <b>Propiedad Industrial</b>: las marcas, las patentes, modelos industriales, modelos de utilidad.\n",
    "- <b>Derechos de Autor</b>."
   ]
  },
  {
   "cell_type": "markdown",
   "id": "3c70b855-afb4-43dd-878e-bdb9b1cba984",
   "metadata": {},
   "source": [
    "<b>Nota (inmaterial)</b>: recae sobre un bien inmaterial, no es algo tangible como un auto."
   ]
  },
  {
   "cell_type": "markdown",
   "id": "f96b5bd2-5695-4e51-84b6-6143e7cb515b",
   "metadata": {},
   "source": [
    "<b>Nota (temporalidad)</b>: son temporales, porque el sistema quiere que las ideas/conocimiento circulen en pos del bienestar de la sociedad. Por ejemplo pensemos el caso de la invencion de la rueda. O la aspirina, que Bayer tenga por siempre la patente, haria que sea un monopolio y los precios sean muy costosos."
   ]
  },
  {
   "cell_type": "markdown",
   "id": "cbcb5262-bd8e-4e97-9fd3-40f5b07a38f6",
   "metadata": {},
   "source": [
    "<b>Nota (region)</b>: se protegen territorialmente, hay que hacer el registro en cada pais. Por ejemplo si yo quiero registrar una marca en Argentina, la tengo que registrar en Uruguay, si la quiero en Uruguay entonces la tengo que registrar alla tambien. Con el surgimiento del regionalismo hay por ejemplo la union Europea (27 paises) en donde nos podemos registrar en toda la region, esto facilita las cosas."
   ]
  },
  {
   "cell_type": "markdown",
   "id": "63ba8a0c-d451-4911-a06c-97095a8b2348",
   "metadata": {},
   "source": [
    "#### Patente"
   ]
  },
  {
   "cell_type": "markdown",
   "id": "f0297663-4f46-4c0c-88f2-b0ff9ae5e09a",
   "metadata": {},
   "source": [
    "Es para una idea creativa, original, que tiene una aplicacion industrial."
   ]
  },
  {
   "cell_type": "markdown",
   "id": "4282f9b9-0d85-4760-a64e-4787ae19aa12",
   "metadata": {},
   "source": [
    "Caracteristicas para que sea patentable:\n",
    "- Novedoso a nivel mundial (novedad absoluta).\n",
    "- Que entrañe una actividad inventiva. Esto es que significa que no sea obvio, que requiera un trabajo, un esfuerzo, que no sea facilmente deducible de la tecnica.\n",
    "- Sea suceptible de aplicacion industrial. Que se pueda reproducir."
   ]
  },
  {
   "cell_type": "markdown",
   "id": "fc88c3e4-2de2-4a06-900b-189cbe8fd3c0",
   "metadata": {},
   "source": [
    "<b>Observacion (requisitos de patentibilidad)</b>: novedad, actividad inventiva y aplicación industrial."
   ]
  },
  {
   "cell_type": "markdown",
   "id": "38e0edf8-6aae-43af-98f8-965d7110b48f",
   "metadata": {},
   "source": [
    "<b>Referencia</b>: https://www.argentina.gob.ar/inpi/patentes-de-invencion-y-modelos-de-utilidad"
   ]
  },
  {
   "cell_type": "markdown",
   "id": "7138c7b2-7361-4420-bf2f-df11cd355f91",
   "metadata": {},
   "source": [
    "<b>Duracion</b>: duran 20 años. Con la observacion de que a veces tardan entre 8 a 10 años en ser conseguidas."
   ]
  },
  {
   "cell_type": "markdown",
   "id": "96495ca1-a4c1-4285-9bac-fb846bb0a6ed",
   "metadata": {},
   "source": [
    "#### Modelo de Utilidad"
   ]
  },
  {
   "cell_type": "markdown",
   "id": "539f6a41-c30a-4a55-844a-165a1082ea69",
   "metadata": {},
   "source": [
    "<b>Observacion</b>: tiene que cumplir con solo dos de los requisitos de patentabilidad, novedad y aplicacion industrial."
   ]
  },
  {
   "cell_type": "markdown",
   "id": "49b9cc71-c7f3-4787-a360-a4a1b6735aa2",
   "metadata": {},
   "source": [
    "#### Modelo Industrial"
   ]
  },
  {
   "cell_type": "markdown",
   "id": "da2ed467-3883-48d9-8666-6e98598922ac",
   "metadata": {},
   "source": [
    "Los modelos industriales (aspectos tridimensionales) y los diseños industriales (aspectos bidimensionales) son nuevas formas incorporadas o aplicadas a un producto industrial o artesanal que le da características estéticas o decorativas. Para ser registrados, los modelos y diseños deben ser nuevos y originales. Por lo tanto debe comprobarse que no se haya hecho público otro igual y comprobar que no sea una copia ni imitación"
   ]
  },
  {
   "cell_type": "markdown",
   "id": "2cd33e9d-0460-4715-9d0f-9f0ee8600480",
   "metadata": {},
   "source": [
    "<b>Observacion (ornamental)</b>: Protege el caracter ornamental, por ejemplo la forma de un vaso, la forma de un mouse."
   ]
  },
  {
   "cell_type": "markdown",
   "id": "a6276a6a-0dca-48f1-9e2f-b68bddd91e30",
   "metadata": {},
   "source": [
    "<b>Referencia</b>: https://www.argentina.gob.ar/inpi/modelos-y-disenos-industriales"
   ]
  },
  {
   "cell_type": "markdown",
   "id": "1b12a77d-a03d-42fa-be65-2d2932c23a7d",
   "metadata": {
    "tags": []
   },
   "source": [
    "#### Marcas"
   ]
  },
  {
   "cell_type": "markdown",
   "id": "5b77a87b-4168-40ce-8c34-0aa1c782345c",
   "metadata": {},
   "source": [
    "Signos que permiten distinguir productos y servicios de un competidor frente a otro competidor.\n",
    "Ejemplos:\n",
    "- Una o mas palabras con un contenido conceptual.\n",
    "- Los dibujos, los emblemas.\n",
    "- Las combinaciones de colores\n",
    "- Los emboltorios.\n",
    "- Las letras."
   ]
  },
  {
   "cell_type": "markdown",
   "id": "37117569-6830-40b5-9d07-e40b3511ef21",
   "metadata": {},
   "source": [
    "Ejemplo: la combinacion de colores de McDonalds."
   ]
  },
  {
   "cell_type": "markdown",
   "id": "5447bcbd-62c5-4229-9add-786021638b24",
   "metadata": {},
   "source": [
    "<b>Referencia</b>: https://www.argentina.gob.ar/inpi/marcas"
   ]
  },
  {
   "cell_type": "markdown",
   "id": "343e8fbe-5ccd-4b87-82df-699d85979d61",
   "metadata": {},
   "source": [
    "<b>Nota (marca olfativa)</b>: hay marcas que en lugar de ser visuales son olfativas, es un olor que los distingue del resto, como envase de shampoo con olor banana y melon."
   ]
  },
  {
   "cell_type": "markdown",
   "id": "f28ca0eb-57f5-4dbd-946f-627f80f12b3c",
   "metadata": {},
   "source": [
    "<b>Nota (marca sonora)</b>: hay marcas que son sonoras, la musica de intel. https://www.youtube.com/watch?v=-ihRPi4wcBY"
   ]
  },
  {
   "cell_type": "markdown",
   "id": "d88a62d3-8541-49d9-a3c5-b6ba7210388a",
   "metadata": {},
   "source": [
    "<b>Nota (Funcion Distintiva)</b>: un producto de una marca tiene caracteristicas que la distinguen de un producto de otra marca. Ejemplo: el violeta de Milka vs el amarillo de Cofler."
   ]
  },
  {
   "cell_type": "markdown",
   "id": "e260a8e2-7cfd-4bdf-aed2-eeb451dd1b15",
   "metadata": {},
   "source": [
    "<b>Nota (Funcion de Garantia)</b>: dos productos de la misma marca deben mantener la misma calidad."
   ]
  },
  {
   "cell_type": "markdown",
   "id": "1d926435-1905-400e-8afe-f4bf0cd522fa",
   "metadata": {},
   "source": [
    "<b>Duracion</b>: duran 10 años. Con posibilidad de renovacion por periodos de igual duracion."
   ]
  },
  {
   "cell_type": "code",
   "execution_count": null,
   "id": "602c99b3-7619-4dc6-bf87-3383d6fabf0f",
   "metadata": {},
   "outputs": [],
   "source": []
  }
 ],
 "metadata": {
  "kernelspec": {
   "display_name": "Python 3 (ipykernel)",
   "language": "python",
   "name": "python3"
  },
  "language_info": {
   "codemirror_mode": {
    "name": "ipython",
    "version": 3
   },
   "file_extension": ".py",
   "mimetype": "text/x-python",
   "name": "python",
   "nbconvert_exporter": "python",
   "pygments_lexer": "ipython3",
   "version": "3.11.1"
  }
 },
 "nbformat": 4,
 "nbformat_minor": 5
}
