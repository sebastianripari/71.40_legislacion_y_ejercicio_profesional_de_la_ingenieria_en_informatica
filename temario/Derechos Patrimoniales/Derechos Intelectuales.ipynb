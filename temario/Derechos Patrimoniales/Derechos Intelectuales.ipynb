{
 "cells": [
  {
   "cell_type": "markdown",
   "id": "003757e9-f2af-4d1b-a339-0583465b62ae",
   "metadata": {},
   "source": [
    "### Propiedad Intelectual (PI)"
   ]
  },
  {
   "cell_type": "markdown",
   "id": "869af9ba-1a37-4795-9e81-802731a27834",
   "metadata": {},
   "source": [
    "Se relaciona con las creaciones de la mente: invenciones, obras literarias y artisticas, asi como simbolos, nombres e imagenes utilizados en el comercio."
   ]
  },
  {
   "cell_type": "markdown",
   "id": "c566aa91-dce7-4548-ba3f-7b8160c79549",
   "metadata": {},
   "source": [
    "La legislacion protege las P.I por ejemplo mediante patentes, el derecho de autor y las marcas."
   ]
  },
  {
   "cell_type": "markdown",
   "id": "044b8c59-09f5-4f8a-baa4-9033ea284772",
   "metadata": {},
   "source": [
    "Propiedad Itelectual, se bifurca en dos tipos:\n",
    "- <b>Propiedad Industrial</b>: las marcas, las patentes, modelos industriales, modelos de utilidad.\n",
    "- <b>Derechos de Autor</b>."
   ]
  },
  {
   "cell_type": "markdown",
   "id": "3c70b855-afb4-43dd-878e-bdb9b1cba984",
   "metadata": {},
   "source": [
    "<b>Nota (inmaterial)</b>: recae sobre un bien inmaterial, no es algo tangible como un auto."
   ]
  },
  {
   "cell_type": "markdown",
   "id": "f96b5bd2-5695-4e51-84b6-6143e7cb515b",
   "metadata": {},
   "source": [
    "<b>Nota (temporalidad)</b>: son temporales, porque el sistema quiere que las ideas/conocimiento circulen en pos del bienestar de la sociedad. Por ejemplo pensemos el caso de la invencion de la rueda. O la aspirina, que Bayer tenga por siempre la patente, haria que sea un monopolio y los precios sean muy costosos."
   ]
  },
  {
   "cell_type": "markdown",
   "id": "cbcb5262-bd8e-4e97-9fd3-40f5b07a38f6",
   "metadata": {},
   "source": [
    "<b>Nota (region)</b>: se protegen territorialmente, hay que hacer el registro en cada pais. Por ejemplo si yo quiero registrar una marca en Argentina, la tengo que registrar en Uruguay, si la quiero en Uruguay entonces la tengo que registrar alla tambien. Con el surgimiento del regionalismo hay por ejemplo la union Europea (27 paises) en donde nos podemos registrar en toda la region, esto facilita las cosas."
   ]
  },
  {
   "cell_type": "markdown",
   "id": "63ba8a0c-d451-4911-a06c-97095a8b2348",
   "metadata": {},
   "source": [
    "#### Patente"
   ]
  },
  {
   "cell_type": "markdown",
   "id": "f0297663-4f46-4c0c-88f2-b0ff9ae5e09a",
   "metadata": {},
   "source": [
    "Es para una idea creativa, original, que tiene una aplicacion industrial."
   ]
  },
  {
   "cell_type": "code",
   "execution_count": null,
   "id": "afca44dd-ee0d-437c-9dee-8d2dca996ea7",
   "metadata": {},
   "outputs": [],
   "source": []
  }
 ],
 "metadata": {
  "kernelspec": {
   "display_name": "Python 3 (ipykernel)",
   "language": "python",
   "name": "python3"
  },
  "language_info": {
   "codemirror_mode": {
    "name": "ipython",
    "version": 3
   },
   "file_extension": ".py",
   "mimetype": "text/x-python",
   "name": "python",
   "nbconvert_exporter": "python",
   "pygments_lexer": "ipython3",
   "version": "3.11.1"
  }
 },
 "nbformat": 4,
 "nbformat_minor": 5
}
