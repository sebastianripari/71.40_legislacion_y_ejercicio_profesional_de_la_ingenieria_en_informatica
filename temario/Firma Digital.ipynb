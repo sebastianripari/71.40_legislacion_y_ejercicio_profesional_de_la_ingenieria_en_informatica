{
 "cells": [
  {
   "cell_type": "markdown",
   "id": "0893091b",
   "metadata": {},
   "source": [
    "## Firma Digital"
   ]
  },
  {
   "cell_type": "markdown",
   "id": "743b47e3",
   "metadata": {},
   "source": [
    "- Es una herramienta tecnologica que permite garantizar la <b>autoria e integridad</b> de los documentos digitales.\n",
    "- Conjunto de datos asociados a un mensaje digital que permite garantizar la <b>identidad del firmante</b> y <b>la integridad del mensaje</b>.\n",
    "- No implica asegurar la <b>confidencialidad</b> del mensaje; puede ser visualizado por otras personas, al igual que cuando se firma holograficamente."
   ]
  },
  {
   "cell_type": "markdown",
   "id": "a3262d03",
   "metadata": {},
   "source": [
    "#### Integridad"
   ]
  },
  {
   "cell_type": "markdown",
   "id": "b8102402",
   "metadata": {},
   "source": [
    "Mediante procedimientos informaticos, podemos asegurar la <b>integridad</b> del mensaje, es decir podemos estar seguros que el mensaje no cambio desde que fue firmado."
   ]
  },
  {
   "cell_type": "markdown",
   "id": "baee6831",
   "metadata": {},
   "source": [
    "#### Confidencialidad"
   ]
  },
  {
   "cell_type": "markdown",
   "id": "6d18e73d",
   "metadata": {},
   "source": [
    "No garantiza que el mensaje no lo puedan ver otros, es un archivo visible, que lo lee el que lo tiene."
   ]
  },
  {
   "cell_type": "markdown",
   "id": "854332f9",
   "metadata": {},
   "source": [
    "#### Autoria"
   ]
  },
  {
   "cell_type": "markdown",
   "id": "fa8ba7e3",
   "metadata": {},
   "source": [
    "La firma garantiza que el que lo firmo es quien dice ser."
   ]
  },
  {
   "cell_type": "markdown",
   "id": "d6f8054b",
   "metadata": {},
   "source": [
    "## Como funciona?"
   ]
  },
  {
   "cell_type": "markdown",
   "id": "60679390",
   "metadata": {},
   "source": [
    "El firmante genera, mediante una función matemática, una huella digital del mensaje, la cual se cifra con la clave privada del firmante. El resultado es lo que se denomina firma digital, que se enviará adjunta al mensaje original. De esta manera el firmante adjuntará al documento una marca que es única para dicho documento y que sólo él es capaz de producir."
   ]
  },
  {
   "cell_type": "markdown",
   "id": "dd3e811d",
   "metadata": {},
   "source": [
    "Basicamente es un documento que esta firmado digitalmente. Puedo ver el certificado en cualquier momento."
   ]
  },
  {
   "cell_type": "markdown",
   "id": "c60058b0",
   "metadata": {},
   "source": [
    "## Ley 25.506"
   ]
  },
  {
   "cell_type": "markdown",
   "id": "45209d47",
   "metadata": {},
   "source": [
    "Fecha: Diciembre 2001"
   ]
  },
  {
   "cell_type": "markdown",
   "id": "3972bfba",
   "metadata": {},
   "source": [
    "Se reconoce el empleo de la <b>firma electronica</b> y de la <b>firma digital</b> y su <b>eficacia juridica</b> en las condiciones que establece la presente ley. Y crea la insfraestructura de Firma Digital de la Republica Argentina."
   ]
  },
  {
   "cell_type": "markdown",
   "id": "fe339cba",
   "metadata": {},
   "source": [
    "## Valor Firma Digital"
   ]
  },
  {
   "cell_type": "markdown",
   "id": "e5c05655",
   "metadata": {},
   "source": [
    "Para la Argentina <b>Firma Digital</b> y <b>Firma Electronica</b> no son lo mismo. La diferencia radica en el valor <b>probatorio</b>."
   ]
  },
  {
   "cell_type": "markdown",
   "id": "2546553e",
   "metadata": {},
   "source": [
    "Si un documento es firmado digitalmente es <b>verificado correctamente</b>, se presume que proviene del subscriptor del certificado asociado y que no fue modificado."
   ]
  },
  {
   "cell_type": "markdown",
   "id": "2133da7c",
   "metadata": {},
   "source": [
    "La firma electronica de ser desconocida por su titular, corresponde a quien la invoca acreditar su validez."
   ]
  },
  {
   "cell_type": "markdown",
   "id": "032b849d",
   "metadata": {},
   "source": [
    "## Excepciones"
   ]
  },
  {
   "cell_type": "markdown",
   "id": "68f67d13",
   "metadata": {},
   "source": [
    "- Causa de muerte. (testamentos)\n",
    "- Derecho de familia. (ejemplo: adopcion)\n",
    "- Actos personalismo. (donacion de un organo)"
   ]
  },
  {
   "cell_type": "markdown",
   "id": "d08e326f",
   "metadata": {},
   "source": [
    "Tampoco pueden firmarse digitalmente los documentos para los que la propia ley exija obligatoriamente una forma determinada. Es el caso de las escrituras públicas, que seguirán haciéndose ante escribano, y de los cheques, que no tienen valor sin el imprescindible garabato al pie."
   ]
  },
  {
   "cell_type": "markdown",
   "id": "f192dd8a",
   "metadata": {},
   "source": [
    "## Links de Interes:"
   ]
  },
  {
   "cell_type": "markdown",
   "id": "2d4c8fbc",
   "metadata": {},
   "source": [
    "https://www.argentina.gob.ar/jefatura/innovacion-publica/innovacion-administrativa/firma-digital"
   ]
  }
 ],
 "metadata": {
  "kernelspec": {
   "display_name": "Python 3 (ipykernel)",
   "language": "python",
   "name": "python3"
  },
  "language_info": {
   "codemirror_mode": {
    "name": "ipython",
    "version": 3
   },
   "file_extension": ".py",
   "mimetype": "text/x-python",
   "name": "python",
   "nbconvert_exporter": "python",
   "pygments_lexer": "ipython3",
   "version": "3.11.1"
  }
 },
 "nbformat": 4,
 "nbformat_minor": 5
}
