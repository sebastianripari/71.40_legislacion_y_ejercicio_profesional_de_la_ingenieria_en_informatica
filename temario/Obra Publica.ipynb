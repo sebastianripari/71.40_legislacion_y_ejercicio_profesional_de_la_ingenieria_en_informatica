{
 "cells": [
  {
   "cell_type": "markdown",
   "id": "69c2046f-1eb6-4f88-879d-be5a4669e546",
   "metadata": {},
   "source": [
    "# Obra Publica"
   ]
  },
  {
   "cell_type": "markdown",
   "id": "f41afc0e-a8a9-4000-9675-48facfd394c7",
   "metadata": {},
   "source": [
    "<b>Definicion</b>: Considerese OP toda construccion, trabajo o servicio que se ejecute con fondos del tesoro nacional."
   ]
  },
  {
   "cell_type": "code",
   "execution_count": null,
   "id": "9b0ffbdf-caaf-4b1c-b7fd-13b337cabf64",
   "metadata": {},
   "outputs": [],
   "source": []
  }
 ],
 "metadata": {
  "kernelspec": {
   "display_name": "Python 3 (ipykernel)",
   "language": "python",
   "name": "python3"
  },
  "language_info": {
   "codemirror_mode": {
    "name": "ipython",
    "version": 3
   },
   "file_extension": ".py",
   "mimetype": "text/x-python",
   "name": "python",
   "nbconvert_exporter": "python",
   "pygments_lexer": "ipython3",
   "version": "3.11.1"
  }
 },
 "nbformat": 4,
 "nbformat_minor": 5
}
