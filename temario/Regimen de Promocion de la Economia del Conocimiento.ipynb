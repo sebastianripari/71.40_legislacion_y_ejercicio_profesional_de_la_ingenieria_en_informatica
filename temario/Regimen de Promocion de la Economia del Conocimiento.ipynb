{
 "cells": [
  {
   "cell_type": "markdown",
   "id": "894a8cf8",
   "metadata": {},
   "source": [
    "# Regimen de Promocion de la Economia del Conocimiento"
   ]
  },
  {
   "cell_type": "markdown",
   "id": "bae37592",
   "metadata": {},
   "source": [
    "Ley N 27570"
   ]
  },
  {
   "cell_type": "markdown",
   "id": "777d30ee",
   "metadata": {},
   "source": [
    "## Que es?"
   ]
  },
  {
   "cell_type": "markdown",
   "id": "e45a4438-7f96-4702-acba-154a08220f7d",
   "metadata": {},
   "source": [
    "El conjunto de actividades productivas que utilizan la información y los avances derivados de la ciencia y la tecnología para generar valor y ofrecer a la sociedad nuevos productos y servicios, que pueden ser aprovechados por todas las ramas de la producción y mejoran la calidad de vida de las personas."
   ]
  },
  {
   "cell_type": "markdown",
   "id": "fc38219b-002b-4e3e-abf5-7230bffed9c0",
   "metadata": {},
   "source": [
    "## Quienes pueden inscribirse?"
   ]
  },
  {
   "cell_type": "markdown",
   "id": "d1a491fe-d573-4a1d-b3da-fb1294cb945d",
   "metadata": {},
   "source": [
    "Desarrollo de software, producción o postproducción audiovisual, biotecnología, servicios geológicos y de prospección, servicios relacionados con la electrónica y las comunicaciones, servicios profesionales, nanotecnología y nanociencia, industria aeroespacial y satelital, tecnologías espaciales, ingeniería nuclear o soluciones 4.0."
   ]
  },
  {
   "cell_type": "markdown",
   "id": "58a6dade-e280-450c-8ccf-a57f0358544e",
   "metadata": {},
   "source": [
    "## Beneficios"
   ]
  },
  {
   "cell_type": "markdown",
   "id": "650d3c71-1421-430e-b6c7-a6626a56d999",
   "metadata": {},
   "source": [
    "- Bono para pagar los impuestos nacionales.\n",
    "- Descuento de hasta 60% en el impuesto a las ganancias.\n",
    "- Reduccion a 0 los derechos de exportacion."
   ]
  },
  {
   "cell_type": "markdown",
   "id": "3f368f85-3b25-47fb-a918-64aab6d184f0",
   "metadata": {},
   "source": [
    "## Link de referencia"
   ]
  },
  {
   "cell_type": "markdown",
   "id": "f9bf8288-236e-4a29-a452-1c72a9b85d52",
   "metadata": {},
   "source": [
    "https://www.argentina.gob.ar/economia/conocimiento"
   ]
  }
 ],
 "metadata": {
  "kernelspec": {
   "display_name": "Python 3 (ipykernel)",
   "language": "python",
   "name": "python3"
  },
  "language_info": {
   "codemirror_mode": {
    "name": "ipython",
    "version": 3
   },
   "file_extension": ".py",
   "mimetype": "text/x-python",
   "name": "python",
   "nbconvert_exporter": "python",
   "pygments_lexer": "ipython3",
   "version": "3.11.1"
  }
 },
 "nbformat": 4,
 "nbformat_minor": 5
}
