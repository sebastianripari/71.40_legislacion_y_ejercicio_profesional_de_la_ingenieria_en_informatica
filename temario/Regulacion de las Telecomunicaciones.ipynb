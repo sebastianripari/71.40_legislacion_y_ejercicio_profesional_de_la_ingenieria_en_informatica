{
 "cells": [
  {
   "cell_type": "markdown",
   "id": "f38bab4b-db07-43cb-a1a7-d66e08b597b1",
   "metadata": {},
   "source": [
    "# Regulacion de las Telecomunicaciones"
   ]
  },
  {
   "cell_type": "markdown",
   "id": "fb68212d-2200-43b5-9697-16566aa4c960",
   "metadata": {},
   "source": [
    "Marco juridico para el desarrollo de las Redes y Servicios de Telecomunicaciones"
   ]
  },
  {
   "cell_type": "markdown",
   "id": "d7d39954-e455-4070-bc91-0ad049c979f5",
   "metadata": {},
   "source": [
    "El ente regulador es el ENACOM. https://www.enacom.gob.ar/"
   ]
  },
  {
   "cell_type": "markdown",
   "id": "783e91d2-dece-4490-8fed-0931c20c1de1",
   "metadata": {
    "tags": []
   },
   "source": [
    "### Factores a Regular"
   ]
  },
  {
   "cell_type": "markdown",
   "id": "ac216478-62ee-4bb9-a3b2-3721e530424d",
   "metadata": {
    "jp-MarkdownHeadingCollapsed": true,
    "tags": []
   },
   "source": [
    "#### Factor Economico"
   ]
  },
  {
   "cell_type": "markdown",
   "id": "9e1c1ba5-c584-4611-824b-b26a92a76348",
   "metadata": {},
   "source": [
    "Esta el <b>Factor Economico</b> en las telecomunicaciones, que tiene que ver con los recursos escasos, esto son por ejemplo el espectro de frecuencias, no son ilimitadas, por lo tanto no se pueden superponer. Entonces quien obtiene cada frecuencia es algo que hay que regularlo."
   ]
  },
  {
   "cell_type": "markdown",
   "id": "a89b69ae-ac81-4051-9296-d31a1fa2564e",
   "metadata": {
    "jp-MarkdownHeadingCollapsed": true,
    "tags": []
   },
   "source": [
    "#### Factor Competitivo"
   ]
  },
  {
   "cell_type": "markdown",
   "id": "065ce570-3df6-44bb-9af0-236c41fd578b",
   "metadata": {},
   "source": [
    "Esta el <b>Factor Competitivo</b>, quienes van a ofrecer los servicios, reglas ante el monopolio."
   ]
  },
  {
   "cell_type": "markdown",
   "id": "2d398deb-b338-4bf8-8ed4-4b58ffede791",
   "metadata": {
    "tags": []
   },
   "source": [
    "#### Factor Social"
   ]
  },
  {
   "cell_type": "markdown",
   "id": "eee90997-a944-481e-99e0-af411b368b37",
   "metadata": {},
   "source": [
    "- <b>Servicio Universal</b>: que todos puedan acceder a los servicios de telecomunicaciones, independiente de su localizacion geografica, sus impedimentos fisicos y su condicion social.\n",
    "- Privacidad.\n",
    "- Confidencialidad.\n",
    "- Seguridad."
   ]
  },
  {
   "cell_type": "markdown",
   "id": "888d2e0d-5cf9-489e-9c52-de4d67da44a6",
   "metadata": {},
   "source": [
    "### Tipos de Compentencia"
   ]
  },
  {
   "cell_type": "markdown",
   "id": "00b6df86-abcc-484c-9e3e-01888c7c8a4f",
   "metadata": {},
   "source": [
    "- <b>Entorno de monopolio publico</b>: es el caso cuando el estado es el unico operador y regulador. En este caso la reglamentacion es limitada ya que no es necesaria al estado tener el control de todo.\n",
    "- <b>Entorno de monopolio privado</b>: es el caso cuando hay un unico operador pero es privado. Hay reglamentacion porque necesita conocer sus derechos y obligaciones.\n",
    "- <b>Entorno de competencia parcial</b>: aqui se da \n",
    "- <b>Entorno de competencia perfecta</b>: "
   ]
  },
  {
   "cell_type": "markdown",
   "id": "49d3476d-f6c2-4d9f-8955-d79ee8814cf4",
   "metadata": {
    "tags": []
   },
   "source": [
    "### Problematicas Generales"
   ]
  },
  {
   "cell_type": "markdown",
   "id": "34d44862-2094-433d-bf1d-d0e3b64d0feb",
   "metadata": {},
   "source": [
    "Estas son las problematicas con la que tiene que lidiar la regulacion. Cuales son estos recursos escasos de los que hablamos?:"
   ]
  },
  {
   "cell_type": "markdown",
   "id": "d41f3d7e-6118-4c50-8674-cfb80f1791b6",
   "metadata": {},
   "source": [
    "- <b>Interconexion</b>: es la conexión física y lógica de las redes de telecomunicaciones de manera tal que los usuarios de un licenciatario puedan comunicarse con los usuarios de otro licenciatario, así como también acceder a los servicios brindados por otro licenciatario. Los servicios podrán ser facilitados por las partes interesadas o por terceros que tengan acceso a la red. La Interconexión constituye un tipo particular de acceso entre prestadores de Servicios de TIC.\n",
    "- <b>Neutralidad</b>: es el principio que promueve que todo el tráfico de Internet debe ser tratado igualitariamente, sin cobrar al usuario de manera diferente según el contenido, sitio web, plataforma, aplicación, tipo de equipamiento utilizado para el acceso o modo de comunicación. (Corresponde a <b>Factor Competitivo y Social</b>)\n",
    "- Coubicacion.\n",
    "- Desagregacion de Bucle de Abonado.\n",
    "- Asignacion de frecuencias.\n",
    "- Posiciones satelitales.\n",
    "- <b>Numeracion (asignacion - portabilidad - multicarrier)</b>: (Corresponde a <b>Factor Economico</b>).\n",
    "- Despliegue de red, incumbencias municipales.\n",
    "- Servicios publicos y servicio universal.\n",
    "- Radiodifusion.\n",
    "- Otorgamiento de licencias.\n",
    "- Privacidad.\n",
    "- Contenidos."
   ]
  },
  {
   "cell_type": "markdown",
   "id": "3f7b253c-d9db-4cfc-b9a7-7d56db9dc896",
   "metadata": {},
   "source": []
  }
 ],
 "metadata": {
  "kernelspec": {
   "display_name": "Python 3 (ipykernel)",
   "language": "python",
   "name": "python3"
  },
  "language_info": {
   "codemirror_mode": {
    "name": "ipython",
    "version": 3
   },
   "file_extension": ".py",
   "mimetype": "text/x-python",
   "name": "python",
   "nbconvert_exporter": "python",
   "pygments_lexer": "ipython3",
   "version": "3.11.1"
  }
 },
 "nbformat": 4,
 "nbformat_minor": 5
}
