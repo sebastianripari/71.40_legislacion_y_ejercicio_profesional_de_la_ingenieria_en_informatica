{
 "cells": [
  {
   "cell_type": "markdown",
   "id": "12b77e4d-36c8-4264-94c1-db3017e9e25f",
   "metadata": {},
   "source": [
    "# Regimen de contratacion de Bienes y Servicios de la Administracion Publica Nacional (APN)"
   ]
  },
  {
   "cell_type": "markdown",
   "id": "89293fb0-b43f-478e-b8f5-ddacaaffdfda",
   "metadata": {
    "jp-MarkdownHeadingCollapsed": true,
    "tags": []
   },
   "source": [
    "## DISPOSICIONES GENERALES DEL RÉGIMEN DE CONTRATACIONES DE LA APN\n"
   ]
  },
  {
   "cell_type": "markdown",
   "id": "64841f5a-2fea-401f-860a-73113a24236a",
   "metadata": {
    "jp-MarkdownHeadingCollapsed": true,
    "tags": []
   },
   "source": [
    "### Objeto"
   ]
  },
  {
   "cell_type": "markdown",
   "id": "44d95088-1232-437f-a48c-ac4bb6908b73",
   "metadata": {},
   "source": [
    "Que las obras, bienes y servicios...\n",
    "- Sean obtenidos con la mejor tecnologia.\n",
    "- En el momento oportuno.\n",
    "- Al menor costo posible.\n",
    "- Para el desempeño eficiente de la administracion y para el logro de los resultados requeridos por la sociedad."
   ]
  },
  {
   "cell_type": "markdown",
   "id": "447846f4-6c2d-4b4a-8c58-f6416899f50e",
   "metadata": {
    "jp-MarkdownHeadingCollapsed": true,
    "tags": []
   },
   "source": [
    "### Quienes las pueden hacer? Sector Publico Nacional"
   ]
  },
  {
   "cell_type": "markdown",
   "id": "e4d1fdb0-6878-443e-9fb2-b19a3a816b23",
   "metadata": {},
   "source": [
    "- Administracion nacional: administracion central, organismos descentralizados, comprendiendo en estos ultimos a las insticuciones de seguridad social, por ejemplo Anses.\n",
    "- Empresas y sociedades del estado.\n",
    "- Entes publicos, Por ejemplo: AFIP, INCAA, RENATRE.\n",
    "- Fondos fidusiarios."
   ]
  },
  {
   "cell_type": "markdown",
   "id": "6fde0358-5883-4acf-b8cd-cc05e3592060",
   "metadata": {
    "jp-MarkdownHeadingCollapsed": true,
    "tags": []
   },
   "source": [
    "### Principios Generales"
   ]
  },
  {
   "cell_type": "markdown",
   "id": "1818379b-1361-438d-ab5c-110e0453c4f4",
   "metadata": {},
   "source": [
    "- Razonabilidad del proyecto y eficiencia de la contratacion para cumplir con el interes publico y el resultados esperado.\n",
    "- Promocion de la concurrencia de interesados y de la competencia entre oferentes.\n",
    "- Transparencia en los procedimientos."
   ]
  },
  {
   "cell_type": "markdown",
   "id": "9365baa7-f2be-47b1-8b78-bb256e4ab045",
   "metadata": {
    "jp-MarkdownHeadingCollapsed": true,
    "tags": []
   },
   "source": [
    "### Contratos Comprendidos"
   ]
  },
  {
   "cell_type": "markdown",
   "id": "984372f7-8ea4-4f64-bd93-2b8b9fa6da84",
   "metadata": {},
   "source": [
    "- Compraventa.\n",
    "- Suministros.\n",
    "- Servicios.\n",
    "- Locaciones.\n",
    "- Consultoria.\n",
    "- Alquileres con opcion a compra.\n",
    "- Permutas.\n",
    "- Concesiones de uso de los bienes del dominio público y privado del estado nacional.\n",
    "- Todos aquellos contratos no excluidos expresamente.\n",
    "- Obras públicas.\n",
    "- Concesiones de obras públicas.\n",
    "- Concesiones de servicios públicos\n",
    "- Licencias"
   ]
  },
  {
   "cell_type": "markdown",
   "id": "5b9e8ae7-ab94-4516-b4e8-2b4e59d3d80b",
   "metadata": {
    "tags": []
   },
   "source": [
    "#### Contratacion VS Concesion"
   ]
  },
  {
   "cell_type": "markdown",
   "id": "e8a1650f-c075-41ff-9ba5-645fa4024cf2",
   "metadata": {},
   "source": [
    "Basicamente la diferencia es como el estado paga la obra, en la contratacion se paga con los recursos que tiene el estados, que los tiene gracias a impuestos por ejemplo. En cambio en la Concesion la misma obra con su explotacion una ves terminada, como es el caso de una ruta, la empresa constructora puede quedarse con una parte de los peajes un tiempo hasta que cubre el pago."
   ]
  },
  {
   "cell_type": "markdown",
   "id": "058b15a7-0c86-418e-8e6e-5bdb9fcfa80e",
   "metadata": {
    "tags": []
   },
   "source": [
    "## Contratación de obra pública"
   ]
  },
  {
   "cell_type": "markdown",
   "id": "8103e9ab-57b3-4f15-8352-e50573f4b77e",
   "metadata": {},
   "source": [
    "Este tipo de transacción constituye la forma básica y habitual en que el Estado ejecuta obras de infraestructura. En el tradicional contrato de obra pública, el Estado encarga la construcción a una empresa y paga el costo de la obra con sus recursos generales, provenientes de impuestos o del crédito público. Este pago se realiza a medida que se va construyendo la misma obra, lo que significa que el contratista no financia al Estado más que cada etapa (generalmente mensual) de la misma. De esta manera, al cumplirse cada período se certifican los acopios de materiales realizados y la parte de obra construida, y el monto resultante es pagado por el Estado con una deducción que actúa como garantía de la buena construcción y se libera, por ende, a la recepción de la misma."
   ]
  },
  {
   "cell_type": "markdown",
   "id": "fbd17f0a-95b6-41d2-9d8b-4c70be262ad7",
   "metadata": {},
   "source": [
    "#### Concesión de obra pública"
   ]
  },
  {
   "cell_type": "markdown",
   "id": "3f85e5da-2fc5-4c19-bc3c-0d05c9843904",
   "metadata": {},
   "source": [
    "En la concesión de obra pública, en su versión básica, el Estado encarga a una empresa la construcción, la mejora o el mantenimiento de una obra pública, debiendo la firma recuperar parcial o totalmente la inversión mediante la explotación del activo, a través del cobro de una tarifa a los usuarios de ésta. Un ejemplo consiste en la concesión de una ruta, donde la empresa construye, mejora o mantiene caminos, cobrando luego un peaje a las personas que los utilizan. Uno de los aspectos cruciales de esta definición es que la inversión es financiada con fondos privados, a diferencia del caso anterior en el cual era asumida por el Estado. Por otro lado el repago de dicha financiación proviene de la explotación del mismo proyecto, o sea con los fondos proporcionados por los usuarios de la obra o servicio en cuestión. También cabe la posibilidad que el Estado tome a su cargo total o parcialmente los pagos liberando de ellos a los consumidores."
   ]
  },
  {
   "cell_type": "markdown",
   "id": "a1bec9ac-7f26-4ad1-ba32-7eb24d8e5714",
   "metadata": {},
   "source": [
    "#### Contratos Excluidos"
   ]
  },
  {
   "cell_type": "markdown",
   "id": "60d04d37-4875-4ab1-b871-f1845332d570",
   "metadata": {},
   "source": [
    "- Los de empleo publico.\n",
    "- Las compras por caja chica.\n",
    "- Los que se celebren con estados extranjeros, con entidades de derecho público internacional, con instituciones multilaterales de crédito, los que se financien total o parcialmente con recursos provenientes de esos organismos.\n",
    "- Los comprendidos en operaciones de crédito público."
   ]
  },
  {
   "cell_type": "markdown",
   "id": "01333c75-f99e-4085-952d-da6b69e62fcc",
   "metadata": {},
   "source": [
    "## DETERMINACIÓN DEL PROCEDIMIENTO DE SELECCIÓN"
   ]
  },
  {
   "cell_type": "markdown",
   "id": "0deff85a-2d47-4d7b-8a54-173b122928cb",
   "metadata": {},
   "source": [
    "### Licitacion Publica"
   ]
  },
  {
   "cell_type": "markdown",
   "id": "ee2dcf75-23d3-42b5-865f-485a1a035ddf",
   "metadata": {},
   "source": [
    "Caracteristicas:\n",
    "- Llamado a participar dirigido a una <b>cantidad indeterminada</b> de posibles oferentes.\n",
    "- Criterio de selección del cocontratante recaerá primor-dialmente en <b>factores económicos</b>.\n",
    "- Obligatorio cuando el monto estimado del contrato <b>supere los 15.000.000</b> (M 5.000;  1 M = $3.000)   (M = módulo)"
   ]
  },
  {
   "cell_type": "markdown",
   "id": "84a38499-61ff-4e54-bc51-ef517de6abe9",
   "metadata": {},
   "source": [
    "### Concurso Publico"
   ]
  },
  {
   "cell_type": "markdown",
   "id": "89acbc12-6d6c-49dd-be12-148eee706019",
   "metadata": {},
   "source": [
    "Caracteristicas:\n",
    "- Llamado a participar dirigido a una <b>cantidad indeterminada</b> de posibles oferentes.\n",
    "- Criterio de selección del cocontratante recaerá primordial-mente en <b>factores no económicos</b>.\n",
    "- Obligatorio cuando el monto estimado del contrato <b>supere los 15.000.000</b>   (M 5.000;  1 M = $3.000)"
   ]
  },
  {
   "cell_type": "markdown",
   "id": "b5fbebf9-5ff8-47f6-8b16-202838ccbdf7",
   "metadata": {},
   "source": [
    "### Licitacion Privada"
   ]
  },
  {
   "cell_type": "markdown",
   "id": "15890e97-c86a-493d-9da6-8e85fd43d00b",
   "metadata": {},
   "source": [
    "Caracteristicas:\n",
    "- Llamado a participar dirigido exclusivamente a proveedores que se hallaren incorporados al <b>SIPro</b>.\n",
    "- Criterio de selección del cocontratante recae primordialmente en <b>factores económicos</b>.\n",
    "- Se puede realizar cuando el monto estimado del contrato fuere de <b>hasta 15.000.000</b>   (M 5.000;  1 M = $3.000)"
   ]
  },
  {
   "cell_type": "markdown",
   "id": "15be8136-0694-43d4-868b-a2d371423d10",
   "metadata": {},
   "source": [
    "### Concurso Privado"
   ]
  },
  {
   "cell_type": "markdown",
   "id": "6258e047-8f86-4830-ad8c-89da6ff8cd44",
   "metadata": {},
   "source": [
    "Caracteristicas:\n",
    "- Llamado a participar dirigido exclusivamente a proveedores que se hallaren incorporados al <b>SIPro</b>.\n",
    "- Criterio de selección del cocontratante recae primordialmente en <b>factores no económicos</b>.\n",
    "- Se puede realizar cuando el monto estimado del contrato fuere de hasta <b>15.000.000</b>   (M 5.000;  1 M = $3.000)"
   ]
  },
  {
   "cell_type": "markdown",
   "id": "6da98f93-64d8-43e5-ba35-bef007886390",
   "metadata": {},
   "source": [
    "<img src=\"../imagenes/apn_cuadro.png\" width=\"500px\" />"
   ]
  },
  {
   "cell_type": "code",
   "execution_count": null,
   "id": "317a1a7c-7208-4639-9072-b547229885df",
   "metadata": {},
   "outputs": [],
   "source": []
  }
 ],
 "metadata": {
  "kernelspec": {
   "display_name": "Python 3 (ipykernel)",
   "language": "python",
   "name": "python3"
  },
  "language_info": {
   "codemirror_mode": {
    "name": "ipython",
    "version": 3
   },
   "file_extension": ".py",
   "mimetype": "text/x-python",
   "name": "python",
   "nbconvert_exporter": "python",
   "pygments_lexer": "ipython3",
   "version": "3.11.1"
  }
 },
 "nbformat": 4,
 "nbformat_minor": 5
}
