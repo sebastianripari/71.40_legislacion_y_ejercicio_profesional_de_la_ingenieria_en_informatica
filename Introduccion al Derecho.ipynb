{
 "cells": [
  {
   "cell_type": "markdown",
   "id": "5ee5c7d1-5649-4637-a223-fb68c9aefd3a",
   "metadata": {},
   "source": [
    "## Introduccion al Derecho"
   ]
  },
  {
   "cell_type": "markdown",
   "id": "049c55da-ac06-4587-a6ef-1f9eaee1feb0",
   "metadata": {},
   "source": [
    "#### Hecho Juridico"
   ]
  },
  {
   "cell_type": "markdown",
   "id": "fba72d87-b8e5-4362-8960-7d643db061df",
   "metadata": {},
   "source": [
    "<b>Definicion</b>: Son los acontecimientos susceptibles de producir adquisicion, modificacion, transformacion o extincion de derechos u obligaciones."
   ]
  },
  {
   "cell_type": "markdown",
   "id": "2f98afd3-c52a-410c-abb0-9ba61b929945",
   "metadata": {},
   "source": [
    "#### Acto Juridico"
   ]
  },
  {
   "cell_type": "markdown",
   "id": "a7197db2-26c6-45fd-9b4d-4100cdb2f8e4",
   "metadata": {},
   "source": [
    "<b>Definicion</b>: Todo acto voluntario licito, que tenga por fin inmediato establecer entre la personas relaciones juridicas, crear, modificar, transferir, conservar o aniquilar derechos o obligaciones."
   ]
  },
  {
   "cell_type": "markdown",
   "id": "73543310-c087-48eb-b119-f1d9958985b1",
   "metadata": {},
   "source": [
    "<b>Observacion</b> son siempre producidos por el hombre. "
   ]
  },
  {
   "cell_type": "markdown",
   "id": "21d78ffb-6e69-4f59-8d8e-ff3c04f4b806",
   "metadata": {},
   "source": [
    "#### Vicios Actos Juridicos"
   ]
  },
  {
   "cell_type": "markdown",
   "id": "cfc8ef9b-8834-4d62-96f8-3c3ef83ea959",
   "metadata": {},
   "source": [
    "<b>Definicion</b>: Es cuando se comete algo indebido para la realizacion de un acto. "
   ]
  },
  {
   "cell_type": "markdown",
   "id": "bb4cc896-0517-4bdb-908b-d64972cbbc83",
   "metadata": {},
   "source": [
    "Tenemos una clasificacion que es por la <b>voluntad</b>. Los tipos son <b>Error</b>, <b>Dolo</b> y <b>Violencia</b>."
   ]
  },
  {
   "cell_type": "markdown",
   "id": "498594cc-c3db-4c3c-abf1-5b41081d1b9a",
   "metadata": {},
   "source": [
    "<b>Dolo</b>: es cuando se comete un engaño. Ejemplo: Sebastian le vende un celular a Matias, y no le cuenta que el celular tiene la bateria con poca duracion."
   ]
  },
  {
   "cell_type": "markdown",
   "id": "7b45a18b-1bd5-4127-baeb-4b7b9bcfa1ae",
   "metadata": {},
   "source": [
    "<b>Violencia</b>: es cuando se utiliza la violencia. Ejemplo: Un robo de un celular."
   ]
  },
  {
   "cell_type": "code",
   "execution_count": null,
   "id": "7e4e5b96-1bcc-4ebb-8a16-7138ab5a9914",
   "metadata": {},
   "outputs": [],
   "source": []
  }
 ],
 "metadata": {
  "kernelspec": {
   "display_name": "Python 3 (ipykernel)",
   "language": "python",
   "name": "python3"
  },
  "language_info": {
   "codemirror_mode": {
    "name": "ipython",
    "version": 3
   },
   "file_extension": ".py",
   "mimetype": "text/x-python",
   "name": "python",
   "nbconvert_exporter": "python",
   "pygments_lexer": "ipython3",
   "version": "3.11.1"
  }
 },
 "nbformat": 4,
 "nbformat_minor": 5
}
