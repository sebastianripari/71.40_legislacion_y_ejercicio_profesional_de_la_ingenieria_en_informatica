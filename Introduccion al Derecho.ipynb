{
 "cells": [
  {
   "cell_type": "markdown",
   "id": "5ee5c7d1-5649-4637-a223-fb68c9aefd3a",
   "metadata": {},
   "source": [
    "## Introduccion al Derecho"
   ]
  },
  {
   "cell_type": "markdown",
   "id": "738b2a59-b52a-4e47-8d0a-24381964d478",
   "metadata": {},
   "source": [
    "#### Piramide Juridica"
   ]
  },
  {
   "cell_type": "markdown",
   "id": "3f59f664-0e9e-44e0-b279-fb60a94dca34",
   "metadata": {},
   "source": [
    "<img src=\"imagenes/piramide_juridica.png\" width=\"300px\" />"
   ]
  },
  {
   "cell_type": "markdown",
   "id": "336ee429-fe21-41f7-b0b0-41335cafbf60",
   "metadata": {},
   "source": [
    "<b>Nota</b>: muestra que prevalece sobre lo demas, es decir la Constitucion prevalece por sobre todo, luego las Leyes prevalece sobre todo menos la Constitucion, etc."
   ]
  },
  {
   "cell_type": "markdown",
   "id": "85e7e423-dc8f-438d-9fb2-63248924fe0a",
   "metadata": {
    "tags": []
   },
   "source": [
    "## Sujeto del Derecho"
   ]
  },
  {
   "cell_type": "markdown",
   "id": "15f87aab-89fb-402d-b677-0af5c9a6854a",
   "metadata": {
    "tags": []
   },
   "source": [
    "#### Persona"
   ]
  },
  {
   "cell_type": "markdown",
   "id": "ce07ab7e-37d4-4819-a706-6eeebbae9f29",
   "metadata": {},
   "source": [
    "Son todos los entes suceptibles de adquirir derechos y contraer obligaciones."
   ]
  },
  {
   "cell_type": "markdown",
   "id": "34c9c898-a339-446d-ba5d-4b213aec1e0c",
   "metadata": {
    "tags": []
   },
   "source": [
    "##### Persona Humana"
   ]
  },
  {
   "cell_type": "markdown",
   "id": "e07bf053-8526-45bc-b5f7-4b08946c19e7",
   "metadata": {},
   "source": [
    "<b>Definicion</b>: De caracteristicas fisicas, visible, de existencia real."
   ]
  },
  {
   "cell_type": "markdown",
   "id": "28b24889-2a2c-4f63-ae5e-35579e7c11be",
   "metadata": {},
   "source": [
    "<b>Nota</b>: Caracterizada por NOMBRE, DOMICILIO, ESTADO y CAPACIDAD."
   ]
  },
  {
   "cell_type": "markdown",
   "id": "7ce6777d-9677-49ad-b05c-44b94a01f1b2",
   "metadata": {
    "tags": []
   },
   "source": [
    "##### Persona Juridica"
   ]
  },
  {
   "cell_type": "markdown",
   "id": "213549eb-8fad-49e7-849d-00acc096e32a",
   "metadata": {},
   "source": [
    "<b>Definicion</b>: De caracteristicas posible, no visible, de existencia ideal."
   ]
  },
  {
   "cell_type": "markdown",
   "id": "ed16249b-e5bb-43bf-a511-609a38243dfb",
   "metadata": {},
   "source": [
    "<b>Articulo (Nombre)</b>: La persona juridica debe tener un nombre que la identifique como tal."
   ]
  },
  {
   "cell_type": "markdown",
   "id": "14200d90-8263-4441-949f-9029389912e7",
   "metadata": {},
   "source": [
    "<b>Articulo (Patrimonio)</b>: La persona juridica debe tener un patrimonio. "
   ]
  },
  {
   "cell_type": "markdown",
   "id": "3a26139d-7b6b-4214-ad83-3db4ea90ab95",
   "metadata": {},
   "source": [
    "<b>Articulo (Duracion)</b>: La duracion de una persona juridica es ilimitada en el tiempo, excepto que la ley o el estatuto dispongan lo contrario."
   ]
  },
  {
   "cell_type": "markdown",
   "id": "4c49b48c-610f-4813-8db8-19e45bf1c17e",
   "metadata": {},
   "source": [
    "<b>Articulo (Objeto)</b>: el objeto de la persona juridica debe ser preciso y determinado."
   ]
  },
  {
   "cell_type": "markdown",
   "id": "66593903-30de-464a-b1ce-6338bed8ec41",
   "metadata": {},
   "source": [
    "###### Persona Juridica Publica"
   ]
  },
  {
   "cell_type": "markdown",
   "id": "3732f336-ac99-46e6-bb00-df6cfb7101ef",
   "metadata": {},
   "source": [
    "Estado nacional, provincial, municipal, entes."
   ]
  },
  {
   "cell_type": "markdown",
   "id": "f8e41150-9700-4e85-898e-25d4e386a579",
   "metadata": {},
   "source": [
    "###### Persona Juridica Privada"
   ]
  },
  {
   "cell_type": "markdown",
   "id": "b6a57025-a71a-4414-95f8-242a51b39e5d",
   "metadata": {},
   "source": [
    "Fundaciones, asociaciones, sociedades civiles y comerciales."
   ]
  },
  {
   "cell_type": "markdown",
   "id": "049c55da-ac06-4587-a6ef-1f9eaee1feb0",
   "metadata": {},
   "source": [
    "#### Hecho Juridico"
   ]
  },
  {
   "cell_type": "markdown",
   "id": "fba72d87-b8e5-4362-8960-7d643db061df",
   "metadata": {},
   "source": [
    "<b>Definicion</b>: Son los acontecimientos susceptibles de producir adquisicion, modificacion, transformacion o extincion de derechos u obligaciones."
   ]
  },
  {
   "cell_type": "markdown",
   "id": "2f98afd3-c52a-410c-abb0-9ba61b929945",
   "metadata": {},
   "source": [
    "#### Acto Juridico"
   ]
  },
  {
   "cell_type": "markdown",
   "id": "a7197db2-26c6-45fd-9b4d-4100cdb2f8e4",
   "metadata": {},
   "source": [
    "<b>Definicion</b>: Todo acto voluntario licito, que tenga por fin inmediato establecer entre la personas relaciones juridicas, crear, modificar, transferir, conservar o aniquilar derechos o obligaciones."
   ]
  },
  {
   "cell_type": "markdown",
   "id": "73543310-c087-48eb-b119-f1d9958985b1",
   "metadata": {},
   "source": [
    "<b>Observacion</b> son siempre producidos por el hombre. "
   ]
  },
  {
   "cell_type": "markdown",
   "id": "21d78ffb-6e69-4f59-8d8e-ff3c04f4b806",
   "metadata": {},
   "source": [
    "#### Vicios Actos Juridicos"
   ]
  },
  {
   "cell_type": "markdown",
   "id": "cfc8ef9b-8834-4d62-96f8-3c3ef83ea959",
   "metadata": {},
   "source": [
    "<b>Definicion</b>: Es cuando se comete algo indebido para la realizacion de un acto. "
   ]
  },
  {
   "cell_type": "markdown",
   "id": "bb4cc896-0517-4bdb-908b-d64972cbbc83",
   "metadata": {},
   "source": [
    "Tenemos una clasificacion que es por la <b>voluntad</b>. Los tipos son <b>Error</b>, <b>Dolo</b> y <b>Violencia</b>."
   ]
  },
  {
   "cell_type": "markdown",
   "id": "498594cc-c3db-4c3c-abf1-5b41081d1b9a",
   "metadata": {},
   "source": [
    "<b>Dolo</b>: es cuando se comete un engaño. Ejemplo: Sebastian le vende un celular a Matias, y no le cuenta que el celular tiene la bateria con poca duracion."
   ]
  },
  {
   "cell_type": "markdown",
   "id": "7b45a18b-1bd5-4127-baeb-4b7b9bcfa1ae",
   "metadata": {},
   "source": [
    "<b>Violencia</b>: es cuando se utiliza la violencia. Ejemplo: Un robo de un celular."
   ]
  },
  {
   "cell_type": "markdown",
   "id": "a032e458-847c-4d5d-89a8-418388003780",
   "metadata": {
    "tags": []
   },
   "source": [
    "## Objeto del Derecho"
   ]
  },
  {
   "cell_type": "markdown",
   "id": "fe357265-4063-4acc-b3b8-84822be42241",
   "metadata": {},
   "source": [
    "<img src=\"imagenes/cosa_bien_patrimonio.png\" width=\"400px\" />"
   ]
  },
  {
   "cell_type": "markdown",
   "id": "32de55e4-fb82-4874-968b-d3f40b0f3982",
   "metadata": {},
   "source": [
    "#### Cosas"
   ]
  },
  {
   "cell_type": "markdown",
   "id": "638230a8-79fb-4d4a-b869-bdf0e26ab73b",
   "metadata": {},
   "source": [
    "La cosa es el objeto de las relaciones juridicas."
   ]
  },
  {
   "cell_type": "markdown",
   "id": "a3c54c05-3655-4007-bc67-f9d890163a97",
   "metadata": {},
   "source": [
    "Los objetos materiales suceptibles de tener valor economico, los aplicables a la energia, a las fuerzas naturales susceptibles de apropiacion."
   ]
  },
  {
   "cell_type": "markdown",
   "id": "25af9d87-83e3-45e0-a0fc-c6a2ba02f768",
   "metadata": {},
   "source": [
    "#### Bienes"
   ]
  },
  {
   "cell_type": "markdown",
   "id": "3d32e88e-ad70-4469-aa29-c46ab710a222",
   "metadata": {},
   "source": [
    "Los objetos inmateriales susceptibles de tener valor economico, e igualmente las cosas."
   ]
  },
  {
   "cell_type": "markdown",
   "id": "fd881b19-bbec-4ff6-8549-2f2e9f8be418",
   "metadata": {},
   "source": [
    "#### Patrimonio"
   ]
  },
  {
   "cell_type": "markdown",
   "id": "7231003d-a8d1-4ebc-8dea-216b7c5cf968",
   "metadata": {},
   "source": [
    "El conjunto de bienes (derechos y obligaciones) suceptibles de apreciacion pecuniaria."
   ]
  },
  {
   "cell_type": "code",
   "execution_count": null,
   "id": "ec78e7f9-4b1a-454e-b5eb-d719f8e1fd80",
   "metadata": {},
   "outputs": [],
   "source": []
  }
 ],
 "metadata": {
  "kernelspec": {
   "display_name": "Python 3 (ipykernel)",
   "language": "python",
   "name": "python3"
  },
  "language_info": {
   "codemirror_mode": {
    "name": "ipython",
    "version": 3
   },
   "file_extension": ".py",
   "mimetype": "text/x-python",
   "name": "python",
   "nbconvert_exporter": "python",
   "pygments_lexer": "ipython3",
   "version": "3.11.1"
  }
 },
 "nbformat": 4,
 "nbformat_minor": 5
}
