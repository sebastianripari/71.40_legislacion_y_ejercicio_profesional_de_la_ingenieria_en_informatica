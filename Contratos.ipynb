{
 "cells": [
  {
   "cell_type": "markdown",
   "id": "be6d9643-3766-440c-8640-b013a570e048",
   "metadata": {},
   "source": [
    "# Contratos"
   ]
  },
  {
   "cell_type": "markdown",
   "id": "d2ad0b98-8ef3-4ddd-866a-5bb38e56dca7",
   "metadata": {},
   "source": [
    "<b>Definicion</b>: Hay contrato cuando varias personas se ponen de acuerdo sobre una declaracion de voluntad comun, destinada a reglar sus derechos."
   ]
  },
  {
   "cell_type": "markdown",
   "id": "1d5fa9e6-b22e-427d-b8e5-ed26e7ce6a0d",
   "metadata": {},
   "source": [
    "<b>Observacion</b>: Es una fuente mas de obligaciones, asi como la ley, cuasicontrato, delito y cuasidelito."
   ]
  },
  {
   "cell_type": "markdown",
   "id": "7e3a6cfa-d846-4280-82c8-9bd95453ff6e",
   "metadata": {
    "tags": []
   },
   "source": [
    "## Clasificacion"
   ]
  },
  {
   "cell_type": "markdown",
   "id": "92d75bd9-08a6-44a4-ad13-e3dd0d3957d6",
   "metadata": {
    "jp-MarkdownHeadingCollapsed": true,
    "tags": []
   },
   "source": [
    "### Unilaterales o Bilaterales"
   ]
  },
  {
   "cell_type": "markdown",
   "id": "e01f2dd4-7bfd-4cc1-b672-950d9e645d74",
   "metadata": {},
   "source": [
    "#### Unilateral"
   ]
  },
  {
   "cell_type": "markdown",
   "id": "495d0670-8399-44c6-b275-8ff4300bb9cf",
   "metadata": {},
   "source": [
    "Es cuando una sola de las partes en el contrato es la que se <b>obliga</b>."
   ]
  },
  {
   "cell_type": "markdown",
   "id": "f2a03772-19fc-4038-9d03-1d02c4426f2d",
   "metadata": {},
   "source": [
    "<b>Ejemplo</b>: un testamento, una donacion."
   ]
  },
  {
   "cell_type": "markdown",
   "id": "b639b2ba-39f3-4a61-ba87-7e27053c48d5",
   "metadata": {},
   "source": [
    "#### Bilateral"
   ]
  },
  {
   "cell_type": "markdown",
   "id": "3dd5319f-cabb-4e28-a01b-f7ad88c095d5",
   "metadata": {},
   "source": [
    "Es cuando ambas partes en el contrato se <b>obligan</b>."
   ]
  },
  {
   "cell_type": "markdown",
   "id": "da625a48-2ea9-4a5f-9a61-eee6567f2cd4",
   "metadata": {},
   "source": [
    "<b>Ejemplo</b>: un contrato de obra para desarrollar algun software."
   ]
  },
  {
   "cell_type": "markdown",
   "id": "eb36bde0-8a90-4724-bfe5-eea083374075",
   "metadata": {
    "jp-MarkdownHeadingCollapsed": true,
    "tags": []
   },
   "source": [
    "### Onerosos o Graituitos"
   ]
  },
  {
   "cell_type": "markdown",
   "id": "c67d442a-b8dc-4d34-9532-baa0f782e015",
   "metadata": {},
   "source": [
    "#### Oneroso"
   ]
  },
  {
   "cell_type": "markdown",
   "id": "55f76116-ae7b-48aa-8a4d-78fe1422a500",
   "metadata": {},
   "source": [
    "Es cuando ambas partes se aseguran una <b>prestacion</b>."
   ]
  },
  {
   "cell_type": "markdown",
   "id": "40d545e3-a692-460d-8196-1ad4040a74b1",
   "metadata": {},
   "source": [
    "#### Gratuito"
   ]
  },
  {
   "cell_type": "markdown",
   "id": "e9ad4a70-4d9c-40b4-a871-f760151a14b0",
   "metadata": {},
   "source": [
    "Es cuando una sola de las partes recibe una <b>prestacion</b>"
   ]
  },
  {
   "cell_type": "markdown",
   "id": "0945dc56-dd8b-4bc4-9fbe-a31267b4abf4",
   "metadata": {
    "jp-MarkdownHeadingCollapsed": true,
    "tags": []
   },
   "source": [
    "### Conmutativo y aleatorios"
   ]
  },
  {
   "cell_type": "markdown",
   "id": "5ca825fc-a4ed-4229-b419-0e3491f8335f",
   "metadata": {},
   "source": [
    "Esta clasificacion depende de si la prestacion que cada una de las partes recibe depende de algun hecho aleatorio."
   ]
  },
  {
   "cell_type": "markdown",
   "id": "39e869f9-72ba-4da1-b7e3-b0944c1097f5",
   "metadata": {},
   "source": [
    "#### Comutativo"
   ]
  },
  {
   "cell_type": "markdown",
   "id": "7890e723-5d92-4d90-9c9b-96a4d92feab4",
   "metadata": {},
   "source": [
    "En los contratos comutativo, no hay aleatoriedad en las pretaciones."
   ]
  },
  {
   "cell_type": "markdown",
   "id": "a2ef019c-d540-4dd3-9f52-e43d440ededf",
   "metadata": {},
   "source": [
    "<b>Ejemplo</b>: un contrato de compraventa."
   ]
  },
  {
   "cell_type": "markdown",
   "id": "099f8281-13a2-4607-b88c-59c199fcf8a1",
   "metadata": {},
   "source": [
    "#### Aleatorio"
   ]
  },
  {
   "cell_type": "markdown",
   "id": "491fa0df-880b-4056-8ffd-9a064b90fbbc",
   "metadata": {},
   "source": [
    "En los contratos aleatorios, si hay aleatoriedad en las prestaciones."
   ]
  },
  {
   "cell_type": "markdown",
   "id": "6fb1857e-dcfc-4494-865a-845786205cef",
   "metadata": {},
   "source": [
    "<b>Ejemplo</b>: un contrato con el seguro, el casino."
   ]
  },
  {
   "cell_type": "markdown",
   "id": "c080d168-7eaa-46e1-8b1d-59585697ed21",
   "metadata": {
    "tags": []
   },
   "source": [
    "### Formales o no formales"
   ]
  },
  {
   "cell_type": "markdown",
   "id": "7a937425-439e-4807-ac21-311a5b3f1893",
   "metadata": {},
   "source": [
    "Este se explica muy bien con los ejemplos."
   ]
  },
  {
   "cell_type": "markdown",
   "id": "286eafa2-7367-43e6-bbc2-3fa0ef787b23",
   "metadata": {},
   "source": [
    "#### Formal"
   ]
  },
  {
   "cell_type": "markdown",
   "id": "e7b0027f-c83a-423f-a630-4973c6d05dd2",
   "metadata": {},
   "source": [
    "<b>Ejemplo</b>: la compraventa de inmuebles, matrimonio, divorcio."
   ]
  },
  {
   "cell_type": "markdown",
   "id": "2951bfde-eb62-4edc-b6d4-916a5ecbe250",
   "metadata": {},
   "source": [
    "#### No Formal"
   ]
  },
  {
   "cell_type": "markdown",
   "id": "7a80cd70-eb58-41b9-914b-d361522d2cf2",
   "metadata": {},
   "source": [
    "<b>Ejemplo</b>: compra de una alfajor en un kioso."
   ]
  },
  {
   "cell_type": "markdown",
   "id": "eb078aa5-870d-415f-b637-95a3c85f2a41",
   "metadata": {
    "jp-MarkdownHeadingCollapsed": true,
    "tags": []
   },
   "source": [
    "### Nominados o innominados"
   ]
  },
  {
   "cell_type": "markdown",
   "id": "2eac54ca-2a4f-4036-9897-9be878013808",
   "metadata": {},
   "source": [
    "#### Nominado"
   ]
  },
  {
   "cell_type": "markdown",
   "id": "fc405775-882f-4a48-a9e4-1de3a07825fd",
   "metadata": {},
   "source": [
    "Es aquel contrato que se encuentra previsto y regulado por la ley."
   ]
  },
  {
   "cell_type": "markdown",
   "id": "89c27d0c-4c66-458b-9f18-5dea60857b0b",
   "metadata": {},
   "source": [
    "#### Innominado"
   ]
  },
  {
   "cell_type": "markdown",
   "id": "d20cbcbd-ed27-48c4-8ea6-ce473b2901b8",
   "metadata": {},
   "source": [
    "Es aquel contrato que no se encuentra previsto y regulado por la ley."
   ]
  },
  {
   "cell_type": "code",
   "execution_count": null,
   "id": "b13a1df8-88ee-4cb2-9af1-44c0e90b0b8d",
   "metadata": {},
   "outputs": [],
   "source": []
  }
 ],
 "metadata": {
  "kernelspec": {
   "display_name": "Python 3 (ipykernel)",
   "language": "python",
   "name": "python3"
  },
  "language_info": {
   "codemirror_mode": {
    "name": "ipython",
    "version": 3
   },
   "file_extension": ".py",
   "mimetype": "text/x-python",
   "name": "python",
   "nbconvert_exporter": "python",
   "pygments_lexer": "ipython3",
   "version": "3.11.1"
  }
 },
 "nbformat": 4,
 "nbformat_minor": 5
}
